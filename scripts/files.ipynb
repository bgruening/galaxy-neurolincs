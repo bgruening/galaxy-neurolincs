{
 "cells": [
  {
   "cell_type": "code",
   "execution_count": 21,
   "metadata": {},
   "outputs": [],
   "source": [
    "import pandas as pd\n",
    "import numpy as np"
   ]
  },
  {
   "cell_type": "code",
   "execution_count": 22,
   "metadata": {},
   "outputs": [],
   "source": [
    "with open('/Users/alex/Documents/galaxy-neurolincs/scripts/files.txt', 'r') as f: \n",
    "    files = f.readlines()\n",
    "files = [file.strip('\\n') for file in files]"
   ]
  },
  {
   "cell_type": "code",
   "execution_count": 23,
   "metadata": {},
   "outputs": [
    {
     "data": {
      "text/html": [
       "<div>\n",
       "<style scoped>\n",
       "    .dataframe tbody tr th:only-of-type {\n",
       "        vertical-align: middle;\n",
       "    }\n",
       "\n",
       "    .dataframe tbody tr th {\n",
       "        vertical-align: top;\n",
       "    }\n",
       "\n",
       "    .dataframe thead th {\n",
       "        text-align: right;\n",
       "    }\n",
       "</style>\n",
       "<table border=\"1\" class=\"dataframe\">\n",
       "  <thead>\n",
       "    <tr style=\"text-align: right;\">\n",
       "      <th></th>\n",
       "      <th>path</th>\n",
       "    </tr>\n",
       "  </thead>\n",
       "  <tbody>\n",
       "    <tr>\n",
       "      <th>0</th>\n",
       "      <td>/pool/data/globus/aals_epigenomics/4_protocol_...</td>\n",
       "    </tr>\n",
       "    <tr>\n",
       "      <th>1</th>\n",
       "      <td>/pool/data/globus/aals_epigenomics/4_protocol_...</td>\n",
       "    </tr>\n",
       "    <tr>\n",
       "      <th>2</th>\n",
       "      <td>/pool/data/globus/aals_epigenomics/4_protocol_...</td>\n",
       "    </tr>\n",
       "    <tr>\n",
       "      <th>3</th>\n",
       "      <td>/pool/data/globus/aals_epigenomics/4_protocol_...</td>\n",
       "    </tr>\n",
       "    <tr>\n",
       "      <th>4</th>\n",
       "      <td>/pool/data/globus/aals_epigenomics/4_protocol_...</td>\n",
       "    </tr>\n",
       "  </tbody>\n",
       "</table>\n",
       "</div>"
      ],
      "text/plain": [
       "                                                path\n",
       "0  /pool/data/globus/aals_epigenomics/4_protocol_...\n",
       "1  /pool/data/globus/aals_epigenomics/4_protocol_...\n",
       "2  /pool/data/globus/aals_epigenomics/4_protocol_...\n",
       "3  /pool/data/globus/aals_epigenomics/4_protocol_...\n",
       "4  /pool/data/globus/aals_epigenomics/4_protocol_..."
      ]
     },
     "execution_count": 23,
     "metadata": {},
     "output_type": "execute_result"
    }
   ],
   "source": [
    "files = pd.DataFrame(files, columns=['path'])\n",
    "files.head()"
   ]
  },
  {
   "cell_type": "code",
   "execution_count": 25,
   "metadata": {},
   "outputs": [
    {
     "data": {
      "text/html": [
       "<div>\n",
       "<style scoped>\n",
       "    .dataframe tbody tr th:only-of-type {\n",
       "        vertical-align: middle;\n",
       "    }\n",
       "\n",
       "    .dataframe tbody tr th {\n",
       "        vertical-align: top;\n",
       "    }\n",
       "\n",
       "    .dataframe thead th {\n",
       "        text-align: right;\n",
       "    }\n",
       "</style>\n",
       "<table border=\"1\" class=\"dataframe\">\n",
       "  <thead>\n",
       "    <tr style=\"text-align: right;\">\n",
       "      <th></th>\n",
       "      <th>project</th>\n",
       "      <th>omic</th>\n",
       "      <th>path</th>\n",
       "    </tr>\n",
       "  </thead>\n",
       "  <tbody>\n",
       "    <tr>\n",
       "      <th>0</th>\n",
       "      <td>aals</td>\n",
       "      <td>epigenomics</td>\n",
       "      <td>/pool/data/globus/aals_epigenomics/4_protocol_...</td>\n",
       "    </tr>\n",
       "    <tr>\n",
       "      <th>1</th>\n",
       "      <td>aals</td>\n",
       "      <td>epigenomics</td>\n",
       "      <td>/pool/data/globus/aals_epigenomics/4_protocol_...</td>\n",
       "    </tr>\n",
       "    <tr>\n",
       "      <th>2</th>\n",
       "      <td>aals</td>\n",
       "      <td>epigenomics</td>\n",
       "      <td>/pool/data/globus/aals_epigenomics/4_protocol_...</td>\n",
       "    </tr>\n",
       "    <tr>\n",
       "      <th>3</th>\n",
       "      <td>aals</td>\n",
       "      <td>epigenomics</td>\n",
       "      <td>/pool/data/globus/aals_epigenomics/4_protocol_...</td>\n",
       "    </tr>\n",
       "    <tr>\n",
       "      <th>4</th>\n",
       "      <td>aals</td>\n",
       "      <td>epigenomics</td>\n",
       "      <td>/pool/data/globus/aals_epigenomics/4_protocol_...</td>\n",
       "    </tr>\n",
       "  </tbody>\n",
       "</table>\n",
       "</div>"
      ],
      "text/plain": [
       "  project         omic                                               path\n",
       "0    aals  epigenomics  /pool/data/globus/aals_epigenomics/4_protocol_...\n",
       "1    aals  epigenomics  /pool/data/globus/aals_epigenomics/4_protocol_...\n",
       "2    aals  epigenomics  /pool/data/globus/aals_epigenomics/4_protocol_...\n",
       "3    aals  epigenomics  /pool/data/globus/aals_epigenomics/4_protocol_...\n",
       "4    aals  epigenomics  /pool/data/globus/aals_epigenomics/4_protocol_..."
      ]
     },
     "execution_count": 25,
     "metadata": {},
     "output_type": "execute_result"
    }
   ],
   "source": [
    "files['project'], files['omic'] = zip(*files.path.str.split('/').str[4].str.split('_'))\n",
    "files = files[['project','omic','path']]\n",
    "files.head()"
   ]
  },
  {
   "cell_type": "code",
   "execution_count": 32,
   "metadata": {},
   "outputs": [
    {
     "data": {
      "text/html": [
       "<div>\n",
       "<style scoped>\n",
       "    .dataframe tbody tr th:only-of-type {\n",
       "        vertical-align: middle;\n",
       "    }\n",
       "\n",
       "    .dataframe tbody tr th {\n",
       "        vertical-align: top;\n",
       "    }\n",
       "\n",
       "    .dataframe thead th {\n",
       "        text-align: right;\n",
       "    }\n",
       "</style>\n",
       "<table border=\"1\" class=\"dataframe\">\n",
       "  <thead>\n",
       "    <tr style=\"text-align: right;\">\n",
       "      <th></th>\n",
       "      <th>project</th>\n",
       "      <th>omic</th>\n",
       "      <th>experiment</th>\n",
       "      <th>path</th>\n",
       "    </tr>\n",
       "  </thead>\n",
       "  <tbody>\n",
       "    <tr>\n",
       "      <th>0</th>\n",
       "      <td>aals</td>\n",
       "      <td>epigenomics</td>\n",
       "      <td>4_protocol_selection</td>\n",
       "      <td>/pool/data/globus/aals_epigenomics/4_protocol_...</td>\n",
       "    </tr>\n",
       "    <tr>\n",
       "      <th>1</th>\n",
       "      <td>aals</td>\n",
       "      <td>epigenomics</td>\n",
       "      <td>4_protocol_selection</td>\n",
       "      <td>/pool/data/globus/aals_epigenomics/4_protocol_...</td>\n",
       "    </tr>\n",
       "    <tr>\n",
       "      <th>2</th>\n",
       "      <td>aals</td>\n",
       "      <td>epigenomics</td>\n",
       "      <td>4_protocol_selection</td>\n",
       "      <td>/pool/data/globus/aals_epigenomics/4_protocol_...</td>\n",
       "    </tr>\n",
       "    <tr>\n",
       "      <th>3</th>\n",
       "      <td>aals</td>\n",
       "      <td>epigenomics</td>\n",
       "      <td>4_protocol_selection</td>\n",
       "      <td>/pool/data/globus/aals_epigenomics/4_protocol_...</td>\n",
       "    </tr>\n",
       "    <tr>\n",
       "      <th>4</th>\n",
       "      <td>aals</td>\n",
       "      <td>epigenomics</td>\n",
       "      <td>4_protocol_selection</td>\n",
       "      <td>/pool/data/globus/aals_epigenomics/4_protocol_...</td>\n",
       "    </tr>\n",
       "  </tbody>\n",
       "</table>\n",
       "</div>"
      ],
      "text/plain": [
       "  project         omic            experiment  \\\n",
       "0    aals  epigenomics  4_protocol_selection   \n",
       "1    aals  epigenomics  4_protocol_selection   \n",
       "2    aals  epigenomics  4_protocol_selection   \n",
       "3    aals  epigenomics  4_protocol_selection   \n",
       "4    aals  epigenomics  4_protocol_selection   \n",
       "\n",
       "                                                path  \n",
       "0  /pool/data/globus/aals_epigenomics/4_protocol_...  \n",
       "1  /pool/data/globus/aals_epigenomics/4_protocol_...  \n",
       "2  /pool/data/globus/aals_epigenomics/4_protocol_...  \n",
       "3  /pool/data/globus/aals_epigenomics/4_protocol_...  \n",
       "4  /pool/data/globus/aals_epigenomics/4_protocol_...  "
      ]
     },
     "execution_count": 32,
     "metadata": {},
     "output_type": "execute_result"
    }
   ],
   "source": [
    "files['experiment'] = files['path'].str.split('/').str[5]\n",
    "files = files[['project','omic','experiment','path']]\n",
    "files.head()"
   ]
  },
  {
   "cell_type": "code",
   "execution_count": null,
   "metadata": {},
   "outputs": [],
   "source": []
  },
  {
   "cell_type": "code",
   "execution_count": null,
   "metadata": {},
   "outputs": [],
   "source": []
  },
  {
   "cell_type": "code",
   "execution_count": null,
   "metadata": {},
   "outputs": [],
   "source": []
  },
  {
   "cell_type": "code",
   "execution_count": null,
   "metadata": {},
   "outputs": [],
   "source": []
  },
  {
   "cell_type": "code",
   "execution_count": null,
   "metadata": {},
   "outputs": [],
   "source": []
  }
 ],
 "metadata": {
  "kernelspec": {
   "display_name": "Python 3",
   "language": "python",
   "name": "python3"
  },
  "language_info": {
   "codemirror_mode": {
    "name": "ipython",
    "version": 3
   },
   "file_extension": ".py",
   "mimetype": "text/x-python",
   "name": "python",
   "nbconvert_exporter": "python",
   "pygments_lexer": "ipython3",
   "version": "3.6.5"
  }
 },
 "nbformat": 4,
 "nbformat_minor": 2
}
