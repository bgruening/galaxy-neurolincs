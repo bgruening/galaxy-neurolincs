{
 "cells": [
  {
   "cell_type": "markdown",
   "metadata": {},
   "source": [
    "# Collect RNAseq level3 data into a data library"
   ]
  },
  {
   "cell_type": "code",
   "execution_count": 1,
   "metadata": {},
   "outputs": [],
   "source": [
    "import sys\n",
    "import os\n",
    "from glob import glob as GlobToFilePaths\n",
    "from bioblend.galaxy import GalaxyInstance\n",
    "from bioblend.galaxy.histories import HistoryClient\n",
    "from bioblend.galaxy.tools import ToolClient\n",
    "from bioblend.galaxy.workflows import WorkflowClient\n",
    "from bioblend.galaxy.datasets import DatasetClient\n",
    "from bioblend.galaxy.libraries import LibraryClient"
   ]
  },
  {
   "cell_type": "markdown",
   "metadata": {},
   "source": [
    "## I. Connect to Galaxy Instance\n",
    "\n",
    "#### You will need a `.env` file with your API_KEY"
   ]
  },
  {
   "cell_type": "code",
   "execution_count": 2,
   "metadata": {},
   "outputs": [
    {
     "name": "stdout",
     "output_type": "stream",
     "text": [
      "Loading : /Users/alex/Documents/galaxy-neurolincs/bioblend/.env\n",
      "The .env file has been loaded.\n"
     ]
    }
   ],
   "source": [
    "import environ\n",
    "\n",
    "ROOT_DIR = environ.Path('.')\n",
    "\n",
    "# Load operating system environment variables and then prepare to use them\n",
    "env = environ.Env()\n",
    "\n",
    "# Operating System Environment variables have precedence over variables defined in the .env file,\n",
    "# that is to say variables from the .env files will only be used if not defined\n",
    "# as environment variables.\n",
    "env_file = str(ROOT_DIR.path('.env'))\n",
    "print('Loading : {}'.format(env_file))\n",
    "env.read_env(env_file)\n",
    "print('The .env file has been loaded.')"
   ]
  },
  {
   "cell_type": "code",
   "execution_count": 3,
   "metadata": {},
   "outputs": [
    {
     "data": {
      "text/plain": [
       "False"
      ]
     },
     "execution_count": 3,
     "metadata": {},
     "output_type": "execute_result"
    }
   ],
   "source": [
    "GALAXY_URL = \"https://answer.csbi.mit.edu\"\n",
    "API_KEY = env(\"API_KEY\")\n",
    "API_KEY == None"
   ]
  },
  {
   "cell_type": "code",
   "execution_count": 4,
   "metadata": {},
   "outputs": [],
   "source": [
    "galaxyInstance = GalaxyInstance(url=GALAXY_URL, key=API_KEY)"
   ]
  },
  {
   "cell_type": "markdown",
   "metadata": {},
   "source": [
    "## II. Collect all RNAseq level3 data"
   ]
  },
  {
   "cell_type": "code",
   "execution_count": 5,
   "metadata": {},
   "outputs": [
    {
     "data": {
      "text/plain": [
       "[{'annotation': None,\n",
       "  'deleted': False,\n",
       "  'id': 'd0bfe935d0f5258d',\n",
       "  'model_class': 'History',\n",
       "  'name': 'NeuroLINCS Exp 2: iMNs - ATAC pipeline',\n",
       "  'published': True,\n",
       "  'purged': False,\n",
       "  'tags': [],\n",
       "  'url': '/api/histories/d0bfe935d0f5258d'},\n",
       " {'annotation': None,\n",
       "  'deleted': False,\n",
       "  'id': 'c851ab275e52f8af',\n",
       "  'model_class': 'History',\n",
       "  'name': 'NeuroLINCS Exp 2: iMNs - RNAseq Pipeline',\n",
       "  'published': True,\n",
       "  'purged': False,\n",
       "  'tags': [],\n",
       "  'url': '/api/histories/c851ab275e52f8af'},\n",
       " {'annotation': None,\n",
       "  'deleted': False,\n",
       "  'id': '24d84bcf64116fe7',\n",
       "  'model_class': 'History',\n",
       "  'name': 'NeuroLINCS Exp 1: iPSC - RNAseq Pipeline',\n",
       "  'published': True,\n",
       "  'purged': False,\n",
       "  'tags': [],\n",
       "  'url': '/api/histories/24d84bcf64116fe7'},\n",
       " {'annotation': None,\n",
       "  'deleted': False,\n",
       "  'id': 'c24141d7e4e77705',\n",
       "  'model_class': 'History',\n",
       "  'name': 'iMNs/Exp 2 Level 1 data',\n",
       "  'published': True,\n",
       "  'purged': False,\n",
       "  'tags': [],\n",
       "  'url': '/api/histories/c24141d7e4e77705'},\n",
       " {'annotation': None,\n",
       "  'deleted': False,\n",
       "  'id': '36ddb788a0f14eb3',\n",
       "  'model_class': 'History',\n",
       "  'name': 'NeuroLINCS Exp 3: d18 diMNs - ATAC pipeline',\n",
       "  'published': True,\n",
       "  'purged': False,\n",
       "  'tags': [],\n",
       "  'url': '/api/histories/36ddb788a0f14eb3'},\n",
       " {'annotation': None,\n",
       "  'deleted': False,\n",
       "  'id': 'f0f309c56aff0025',\n",
       "  'model_class': 'History',\n",
       "  'name': 'NeuroLINCS iMNs Johns Hopkins - ATAC pipeline',\n",
       "  'published': True,\n",
       "  'purged': False,\n",
       "  'tags': [],\n",
       "  'url': '/api/histories/f0f309c56aff0025'},\n",
       " {'annotation': None,\n",
       "  'deleted': False,\n",
       "  'id': '52e496b945151ee8',\n",
       "  'model_class': 'History',\n",
       "  'name': 'd32 diMNs Johns Hopkins - ATAC pipeline',\n",
       "  'published': True,\n",
       "  'purged': False,\n",
       "  'tags': [],\n",
       "  'url': '/api/histories/52e496b945151ee8'},\n",
       " {'annotation': None,\n",
       "  'deleted': False,\n",
       "  'id': 'f7bb1edd6b95db62',\n",
       "  'model_class': 'History',\n",
       "  'name': 'NeuroLINCS Exp 4: d32 diMNs - ATAC pipeline',\n",
       "  'published': True,\n",
       "  'purged': False,\n",
       "  'tags': [],\n",
       "  'url': '/api/histories/f7bb1edd6b95db62'}]"
      ]
     },
     "execution_count": 5,
     "metadata": {},
     "output_type": "execute_result"
    }
   ],
   "source": [
    "published_histories = [history for history in galaxyInstance.histories.get_histories() if history['published']]\n",
    "published_histories"
   ]
  },
  {
   "cell_type": "code",
   "execution_count": 6,
   "metadata": {},
   "outputs": [],
   "source": [
    "RNAseq_history_IDs = ['24d84bcf64116fe7', 'c851ab275e52f8af']"
   ]
  },
  {
   "cell_type": "code",
   "execution_count": 7,
   "metadata": {},
   "outputs": [
    {
     "data": {
      "text/plain": [
       "[{'annotation': None,\n",
       "  'deleted': False,\n",
       "  'id': 'c851ab275e52f8af',\n",
       "  'model_class': 'History',\n",
       "  'name': 'NeuroLINCS Exp 2: iMNs - RNAseq Pipeline',\n",
       "  'published': True,\n",
       "  'purged': False,\n",
       "  'tags': [],\n",
       "  'url': '/api/histories/c851ab275e52f8af'},\n",
       " {'annotation': None,\n",
       "  'deleted': False,\n",
       "  'id': '24d84bcf64116fe7',\n",
       "  'model_class': 'History',\n",
       "  'name': 'NeuroLINCS Exp 1: iPSC - RNAseq Pipeline',\n",
       "  'published': True,\n",
       "  'purged': False,\n",
       "  'tags': [],\n",
       "  'url': '/api/histories/24d84bcf64116fe7'}]"
      ]
     },
     "execution_count": 7,
     "metadata": {},
     "output_type": "execute_result"
    }
   ],
   "source": [
    "published_RNAseq_histories = [h for h in published_histories if h['id'] in RNAseq_history_IDs]\n",
    "published_RNAseq_histories"
   ]
  },
  {
   "cell_type": "code",
   "execution_count": 8,
   "metadata": {},
   "outputs": [
    {
     "ename": "ConnectionError",
     "evalue": "('Connection aborted.', TimeoutError(60, 'Operation timed out')), 0 attempts left: ",
     "output_type": "error",
     "traceback": [
      "\u001b[0;31m---------------------------------------------------------------------------\u001b[0m",
      "\u001b[0;31mConnectionError\u001b[0m                           Traceback (most recent call last)",
      "\u001b[0;32m<ipython-input-8-cec1ad7a5ed5>\u001b[0m in \u001b[0;36m<module>\u001b[0;34m()\u001b[0m\n\u001b[0;32m----> 1\u001b[0;31m \u001b[0mgalaxyInstance\u001b[0m\u001b[0;34m.\u001b[0m\u001b[0mhistories\u001b[0m\u001b[0;34m.\u001b[0m\u001b[0mshow_matching_datasets\u001b[0m\u001b[0;34m(\u001b[0m\u001b[0;34m'24d84bcf64116fe7'\u001b[0m\u001b[0;34m)\u001b[0m\u001b[0;34m\u001b[0m\u001b[0m\n\u001b[0m",
      "\u001b[0;32m~/Documents/galaxy-neurolincs/venv/lib/python3.6/site-packages/bioblend/galaxy/histories/__init__.py\u001b[0m in \u001b[0;36mshow_matching_datasets\u001b[0;34m(self, history_id, name_filter)\u001b[0m\n\u001b[1;32m    198\u001b[0m             \u001b[0mname_filter\u001b[0m \u001b[0;34m=\u001b[0m \u001b[0mre\u001b[0m\u001b[0;34m.\u001b[0m\u001b[0mcompile\u001b[0m\u001b[0;34m(\u001b[0m\u001b[0mname_filter\u001b[0m \u001b[0;34m+\u001b[0m \u001b[0;34m'$'\u001b[0m\u001b[0;34m)\u001b[0m\u001b[0;34m\u001b[0m\u001b[0m\n\u001b[1;32m    199\u001b[0m         return [self.show_dataset(history_id, h['id'])\n\u001b[0;32m--> 200\u001b[0;31m                 \u001b[0;32mfor\u001b[0m \u001b[0mh\u001b[0m \u001b[0;32min\u001b[0m \u001b[0mself\u001b[0m\u001b[0;34m.\u001b[0m\u001b[0mshow_history\u001b[0m\u001b[0;34m(\u001b[0m\u001b[0mhistory_id\u001b[0m\u001b[0;34m,\u001b[0m \u001b[0mcontents\u001b[0m\u001b[0;34m=\u001b[0m\u001b[0;32mTrue\u001b[0m\u001b[0;34m)\u001b[0m\u001b[0;34m\u001b[0m\u001b[0m\n\u001b[0m\u001b[1;32m    201\u001b[0m                 if name_filter is None or name_filter.match(h['name'])]\n\u001b[1;32m    202\u001b[0m \u001b[0;34m\u001b[0m\u001b[0m\n",
      "\u001b[0;32m~/Documents/galaxy-neurolincs/venv/lib/python3.6/site-packages/bioblend/galaxy/histories/__init__.py\u001b[0m in \u001b[0;36m<listcomp>\u001b[0;34m(.0)\u001b[0m\n\u001b[1;32m    199\u001b[0m         return [self.show_dataset(history_id, h['id'])\n\u001b[1;32m    200\u001b[0m                 \u001b[0;32mfor\u001b[0m \u001b[0mh\u001b[0m \u001b[0;32min\u001b[0m \u001b[0mself\u001b[0m\u001b[0;34m.\u001b[0m\u001b[0mshow_history\u001b[0m\u001b[0;34m(\u001b[0m\u001b[0mhistory_id\u001b[0m\u001b[0;34m,\u001b[0m \u001b[0mcontents\u001b[0m\u001b[0;34m=\u001b[0m\u001b[0;32mTrue\u001b[0m\u001b[0;34m)\u001b[0m\u001b[0;34m\u001b[0m\u001b[0m\n\u001b[0;32m--> 201\u001b[0;31m                 if name_filter is None or name_filter.match(h['name'])]\n\u001b[0m\u001b[1;32m    202\u001b[0m \u001b[0;34m\u001b[0m\u001b[0m\n\u001b[1;32m    203\u001b[0m     \u001b[0;32mdef\u001b[0m \u001b[0mshow_dataset_provenance\u001b[0m\u001b[0;34m(\u001b[0m\u001b[0mself\u001b[0m\u001b[0;34m,\u001b[0m \u001b[0mhistory_id\u001b[0m\u001b[0;34m,\u001b[0m \u001b[0mdataset_id\u001b[0m\u001b[0;34m,\u001b[0m \u001b[0mfollow\u001b[0m\u001b[0;34m=\u001b[0m\u001b[0;32mFalse\u001b[0m\u001b[0;34m)\u001b[0m\u001b[0;34m:\u001b[0m\u001b[0;34m\u001b[0m\u001b[0m\n",
      "\u001b[0;32m~/Documents/galaxy-neurolincs/venv/lib/python3.6/site-packages/bioblend/galaxy/histories/__init__.py\u001b[0m in \u001b[0;36mshow_dataset\u001b[0;34m(self, history_id, dataset_id)\u001b[0m\n\u001b[1;32m    166\u001b[0m         \u001b[0;31m# Append the dataset_id to the base history contents URL\u001b[0m\u001b[0;34m\u001b[0m\u001b[0;34m\u001b[0m\u001b[0m\n\u001b[1;32m    167\u001b[0m         \u001b[0murl\u001b[0m \u001b[0;34m=\u001b[0m \u001b[0;34m'/'\u001b[0m\u001b[0;34m.\u001b[0m\u001b[0mjoin\u001b[0m\u001b[0;34m(\u001b[0m\u001b[0;34m[\u001b[0m\u001b[0murl\u001b[0m\u001b[0;34m,\u001b[0m \u001b[0mdataset_id\u001b[0m\u001b[0;34m]\u001b[0m\u001b[0;34m)\u001b[0m\u001b[0;34m\u001b[0m\u001b[0m\n\u001b[0;32m--> 168\u001b[0;31m         \u001b[0;32mreturn\u001b[0m \u001b[0mself\u001b[0m\u001b[0;34m.\u001b[0m\u001b[0m_get\u001b[0m\u001b[0;34m(\u001b[0m\u001b[0murl\u001b[0m\u001b[0;34m=\u001b[0m\u001b[0murl\u001b[0m\u001b[0;34m)\u001b[0m\u001b[0;34m\u001b[0m\u001b[0m\n\u001b[0m\u001b[1;32m    169\u001b[0m \u001b[0;34m\u001b[0m\u001b[0m\n\u001b[1;32m    170\u001b[0m     \u001b[0;32mdef\u001b[0m \u001b[0mshow_dataset_collection\u001b[0m\u001b[0;34m(\u001b[0m\u001b[0mself\u001b[0m\u001b[0;34m,\u001b[0m \u001b[0mhistory_id\u001b[0m\u001b[0;34m,\u001b[0m \u001b[0mdataset_collection_id\u001b[0m\u001b[0;34m)\u001b[0m\u001b[0;34m:\u001b[0m\u001b[0;34m\u001b[0m\u001b[0m\n",
      "\u001b[0;32m~/Documents/galaxy-neurolincs/venv/lib/python3.6/site-packages/bioblend/galaxy/client.py\u001b[0m in \u001b[0;36m_get\u001b[0;34m(self, id, deleted, contents, url, params, json)\u001b[0m\n\u001b[1;32m    134\u001b[0m                 \u001b[0mbioblend\u001b[0m\u001b[0;34m.\u001b[0m\u001b[0mlog\u001b[0m\u001b[0;34m.\u001b[0m\u001b[0merror\u001b[0m\u001b[0;34m(\u001b[0m\u001b[0mmsg\u001b[0m\u001b[0;34m)\u001b[0m\u001b[0;34m\u001b[0m\u001b[0m\n\u001b[1;32m    135\u001b[0m                 raise ConnectionError(msg, body=r.text,\n\u001b[0;32m--> 136\u001b[0;31m                                       status_code=r.status_code)\n\u001b[0m\u001b[1;32m    137\u001b[0m             \u001b[0;32melse\u001b[0m\u001b[0;34m:\u001b[0m\u001b[0;34m\u001b[0m\u001b[0m\n\u001b[1;32m    138\u001b[0m                 \u001b[0mbioblend\u001b[0m\u001b[0;34m.\u001b[0m\u001b[0mlog\u001b[0m\u001b[0;34m.\u001b[0m\u001b[0mwarn\u001b[0m\u001b[0;34m(\u001b[0m\u001b[0mmsg\u001b[0m\u001b[0;34m)\u001b[0m\u001b[0;34m\u001b[0m\u001b[0m\n",
      "\u001b[0;31mConnectionError\u001b[0m: ('Connection aborted.', TimeoutError(60, 'Operation timed out')), 0 attempts left: "
     ]
    }
   ],
   "source": [
    "galaxyInstance.histories.show_matching_datasets('24d84bcf64116fe7')"
   ]
  },
  {
   "cell_type": "code",
   "execution_count": null,
   "metadata": {},
   "outputs": [],
   "source": []
  },
  {
   "cell_type": "code",
   "execution_count": null,
   "metadata": {},
   "outputs": [],
   "source": []
  }
 ],
 "metadata": {
  "kernelspec": {
   "display_name": "Python 3",
   "language": "python",
   "name": "python3"
  },
  "language_info": {
   "codemirror_mode": {
    "name": "ipython",
    "version": 3
   },
   "file_extension": ".py",
   "mimetype": "text/x-python",
   "name": "python",
   "nbconvert_exporter": "python",
   "pygments_lexer": "ipython3",
   "version": "3.6.1"
  }
 },
 "nbformat": 4,
 "nbformat_minor": 2
}
