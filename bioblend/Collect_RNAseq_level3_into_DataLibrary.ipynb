{
 "cells": [
  {
   "cell_type": "markdown",
   "metadata": {},
   "source": [
    "# Collect RNAseq level3 data into a data library"
   ]
  },
  {
   "cell_type": "code",
   "execution_count": 1,
   "metadata": {},
   "outputs": [],
   "source": [
    "import sys\n",
    "import os\n",
    "from glob import glob as GlobToFilePaths\n",
    "from bioblend.galaxy import GalaxyInstance\n",
    "from bioblend.galaxy.histories import HistoryClient\n",
    "from bioblend.galaxy.tools import ToolClient\n",
    "from bioblend.galaxy.workflows import WorkflowClient\n",
    "from bioblend.galaxy.datasets import DatasetClient\n",
    "from bioblend.galaxy.libraries import LibraryClient"
   ]
  },
  {
   "cell_type": "markdown",
   "metadata": {},
   "source": [
    "## I. Connect to Galaxy Instance\n",
    "\n",
    "#### You will need a `.env` file with your API_KEY"
   ]
  },
  {
   "cell_type": "code",
   "execution_count": 2,
   "metadata": {},
   "outputs": [
    {
     "name": "stdout",
     "output_type": "stream",
     "text": [
      "Loading : /Users/alex/Documents/galaxy-neurolincs/bioblend/.env\n",
      "The .env file has been loaded.\n"
     ]
    }
   ],
   "source": [
    "import environ\n",
    "\n",
    "ROOT_DIR = environ.Path('.')\n",
    "\n",
    "# Load operating system environment variables and then prepare to use them\n",
    "env = environ.Env()\n",
    "\n",
    "# Operating System Environment variables have precedence over variables defined in the .env file,\n",
    "# that is to say variables from the .env files will only be used if not defined\n",
    "# as environment variables.\n",
    "env_file = str(ROOT_DIR.path('.env'))\n",
    "print('Loading : {}'.format(env_file))\n",
    "env.read_env(env_file)\n",
    "print('The .env file has been loaded.')"
   ]
  },
  {
   "cell_type": "code",
   "execution_count": 3,
   "metadata": {},
   "outputs": [
    {
     "data": {
      "text/plain": [
       "False"
      ]
     },
     "execution_count": 3,
     "metadata": {},
     "output_type": "execute_result"
    }
   ],
   "source": [
    "GALAXY_URL = \"https://answer.csbi.mit.edu\"\n",
    "API_KEY = env(\"API_KEY\")\n",
    "API_KEY == None"
   ]
  },
  {
   "cell_type": "code",
   "execution_count": 4,
   "metadata": {},
   "outputs": [],
   "source": [
    "galaxyInstance = GalaxyInstance(url=GALAXY_URL, key=API_KEY)"
   ]
  },
  {
   "cell_type": "markdown",
   "metadata": {},
   "source": [
    "## II. Get All RNAseq Histories"
   ]
  },
  {
   "cell_type": "code",
   "execution_count": 5,
   "metadata": {},
   "outputs": [
    {
     "data": {
      "text/plain": [
       "[{'annotation': None,\n",
       "  'deleted': False,\n",
       "  'id': 'd0bfe935d0f5258d',\n",
       "  'model_class': 'History',\n",
       "  'name': 'NeuroLINCS Exp 2: iMNs - ATAC pipeline',\n",
       "  'published': True,\n",
       "  'purged': False,\n",
       "  'tags': [],\n",
       "  'url': '/api/histories/d0bfe935d0f5258d'},\n",
       " {'annotation': None,\n",
       "  'deleted': False,\n",
       "  'id': 'c851ab275e52f8af',\n",
       "  'model_class': 'History',\n",
       "  'name': 'NeuroLINCS Exp 2: iMNs - RNAseq Pipeline',\n",
       "  'published': True,\n",
       "  'purged': False,\n",
       "  'tags': [],\n",
       "  'url': '/api/histories/c851ab275e52f8af'},\n",
       " {'annotation': None,\n",
       "  'deleted': False,\n",
       "  'id': '24d84bcf64116fe7',\n",
       "  'model_class': 'History',\n",
       "  'name': 'NeuroLINCS Exp 1: iPSC - RNAseq Pipeline',\n",
       "  'published': True,\n",
       "  'purged': False,\n",
       "  'tags': [],\n",
       "  'url': '/api/histories/24d84bcf64116fe7'},\n",
       " {'annotation': None,\n",
       "  'deleted': False,\n",
       "  'id': 'c24141d7e4e77705',\n",
       "  'model_class': 'History',\n",
       "  'name': 'iMNs/Exp 2 Level 1 data',\n",
       "  'published': True,\n",
       "  'purged': False,\n",
       "  'tags': [],\n",
       "  'url': '/api/histories/c24141d7e4e77705'},\n",
       " {'annotation': None,\n",
       "  'deleted': False,\n",
       "  'id': '36ddb788a0f14eb3',\n",
       "  'model_class': 'History',\n",
       "  'name': 'NeuroLINCS Exp 3: d18 diMNs - ATAC pipeline',\n",
       "  'published': True,\n",
       "  'purged': False,\n",
       "  'tags': [],\n",
       "  'url': '/api/histories/36ddb788a0f14eb3'},\n",
       " {'annotation': None,\n",
       "  'deleted': False,\n",
       "  'id': 'f0f309c56aff0025',\n",
       "  'model_class': 'History',\n",
       "  'name': 'NeuroLINCS iMNs Johns Hopkins - ATAC pipeline',\n",
       "  'published': True,\n",
       "  'purged': False,\n",
       "  'tags': [],\n",
       "  'url': '/api/histories/f0f309c56aff0025'},\n",
       " {'annotation': None,\n",
       "  'deleted': False,\n",
       "  'id': '52e496b945151ee8',\n",
       "  'model_class': 'History',\n",
       "  'name': 'd32 diMNs Johns Hopkins - ATAC pipeline',\n",
       "  'published': True,\n",
       "  'purged': False,\n",
       "  'tags': [],\n",
       "  'url': '/api/histories/52e496b945151ee8'},\n",
       " {'annotation': None,\n",
       "  'deleted': False,\n",
       "  'id': 'f7bb1edd6b95db62',\n",
       "  'model_class': 'History',\n",
       "  'name': 'NeuroLINCS Exp 4: d32 diMNs - ATAC pipeline',\n",
       "  'published': True,\n",
       "  'purged': False,\n",
       "  'tags': [],\n",
       "  'url': '/api/histories/f7bb1edd6b95db62'}]"
      ]
     },
     "execution_count": 5,
     "metadata": {},
     "output_type": "execute_result"
    }
   ],
   "source": [
    "published_histories = [history for history in galaxyInstance.histories.get_histories() if history['published']]\n",
    "published_histories"
   ]
  },
  {
   "cell_type": "code",
   "execution_count": 6,
   "metadata": {},
   "outputs": [],
   "source": [
    "RNAseq_history_IDs = ['24d84bcf64116fe7', 'c851ab275e52f8af']"
   ]
  },
  {
   "cell_type": "code",
   "execution_count": 7,
   "metadata": {},
   "outputs": [
    {
     "data": {
      "text/plain": [
       "[{'annotation': None,\n",
       "  'deleted': False,\n",
       "  'id': 'c851ab275e52f8af',\n",
       "  'model_class': 'History',\n",
       "  'name': 'NeuroLINCS Exp 2: iMNs - RNAseq Pipeline',\n",
       "  'published': True,\n",
       "  'purged': False,\n",
       "  'tags': [],\n",
       "  'url': '/api/histories/c851ab275e52f8af'},\n",
       " {'annotation': None,\n",
       "  'deleted': False,\n",
       "  'id': '24d84bcf64116fe7',\n",
       "  'model_class': 'History',\n",
       "  'name': 'NeuroLINCS Exp 1: iPSC - RNAseq Pipeline',\n",
       "  'published': True,\n",
       "  'purged': False,\n",
       "  'tags': [],\n",
       "  'url': '/api/histories/24d84bcf64116fe7'}]"
      ]
     },
     "execution_count": 7,
     "metadata": {},
     "output_type": "execute_result"
    }
   ],
   "source": [
    "published_RNAseq_histories = [h for h in published_histories if h['id'] in RNAseq_history_IDs]\n",
    "published_RNAseq_histories"
   ]
  },
  {
   "cell_type": "markdown",
   "metadata": {},
   "source": [
    "## III. Get Destination Data Library"
   ]
  },
  {
   "cell_type": "code",
   "execution_count": 58,
   "metadata": {},
   "outputs": [
    {
     "data": {
      "text/plain": [
       "[{'can_user_add': True,\n",
       "  'can_user_manage': True,\n",
       "  'can_user_modify': True,\n",
       "  'create_time': '2017-10-20T19:31:11.948329',\n",
       "  'create_time_pretty': '2 months ago',\n",
       "  'deleted': False,\n",
       "  'description': '',\n",
       "  'id': 'ba751ee0539fff04',\n",
       "  'model_class': 'Library',\n",
       "  'name': 'NeuroLINCS - Transcriptomics - Level 3 (counts)',\n",
       "  'root_folder_id': 'Fbefc5c2fe5c30689',\n",
       "  'synopsis': ''}]"
      ]
     },
     "execution_count": 58,
     "metadata": {},
     "output_type": "execute_result"
    }
   ],
   "source": [
    "transcriptomics_level3_library = [item for item in galaxyInstance.libraries.get_libraries() if item['name'] == 'NeuroLINCS - Transcriptomics - Level 3 (counts)']\n",
    "transcriptomics_level3_library_id = transcriptomics_level3_library[0]['id']\n",
    "transcriptomics_level3_library"
   ]
  },
  {
   "cell_type": "markdown",
   "metadata": {},
   "source": [
    "## IV. Upload all output datasets from each RNAseq history"
   ]
  },
  {
   "cell_type": "markdown",
   "metadata": {},
   "source": [
    "### i. `NeuroLINCS Exp 1: iPSC - RNAseq Pipeline`"
   ]
  },
  {
   "cell_type": "code",
   "execution_count": 11,
   "metadata": {
    "scrolled": true
   },
   "outputs": [],
   "source": [
    "history_contents = galaxyInstance.histories.show_history(RNAseq_history_IDs[0], contents=True)"
   ]
  },
  {
   "cell_type": "code",
   "execution_count": null,
   "metadata": {},
   "outputs": [],
   "source": [
    "collections = [(item['id'], item['name']) for item in history_contents if item['history_content_type'] == 'dataset_collection' and not item['deleted']]\n",
    "collections"
   ]
  },
  {
   "cell_type": "code",
   "execution_count": 31,
   "metadata": {},
   "outputs": [],
   "source": [
    "output_collection_ids = ['56fc5a09f8ae2546', '21b91b9198fe5ccf']"
   ]
  },
  {
   "cell_type": "code",
   "execution_count": 43,
   "metadata": {
    "scrolled": true
   },
   "outputs": [],
   "source": [
    "collection1 = galaxyInstance.histories.show_dataset_collection(RNAseq_history_IDs[0],output_collection_ids[0])['elements']"
   ]
  },
  {
   "cell_type": "code",
   "execution_count": 44,
   "metadata": {},
   "outputs": [
    {
     "data": {
      "text/plain": [
       "[]"
      ]
     },
     "execution_count": 44,
     "metadata": {},
     "output_type": "execute_result"
    }
   ],
   "source": [
    "[item for item in collection1 if item['model_class'] != 'DatasetCollectionElement']"
   ]
  },
  {
   "cell_type": "code",
   "execution_count": 59,
   "metadata": {
    "scrolled": true
   },
   "outputs": [
    {
     "data": {
      "text/plain": [
       "[('R219-L1-P01-ATCACG-',\n",
       "  '617484c96abcde2a',\n",
       "  'htseq-count on data 2237 and data 1677 (no feature)'),\n",
       " ('R219-L1-P02-CGATGT-',\n",
       "  '2a1afc8f9490a8b7',\n",
       "  'htseq-count on data 2237 and data 1678 (no feature)'),\n",
       " ('R219-L1-P03-TTAGGC-',\n",
       "  '248bbd3445e61bc5',\n",
       "  'htseq-count on data 2237 and data 1679 (no feature)'),\n",
       " ('R219-L1-P04-TGACCA-',\n",
       "  'd9315556a02ade5a',\n",
       "  'htseq-count on data 2237 and data 1680 (no feature)'),\n",
       " ('R219-L1-P05-ACAGTG-',\n",
       "  'eabb909765704043',\n",
       "  'htseq-count on data 2237 and data 1681 (no feature)')]"
      ]
     },
     "execution_count": 59,
     "metadata": {},
     "output_type": "execute_result"
    }
   ],
   "source": [
    "datasets = [(item['element_identifier'], item['object']['id'], item['object']['name']) for item in collection1]\n",
    "datasets[:5]"
   ]
  },
  {
   "cell_type": "code",
   "execution_count": 45,
   "metadata": {},
   "outputs": [],
   "source": [
    "collection2 = galaxyInstance.histories.show_dataset_collection(RNAseq_history_IDs[0],output_collection_ids[1])['elements']"
   ]
  },
  {
   "cell_type": "code",
   "execution_count": 46,
   "metadata": {},
   "outputs": [
    {
     "data": {
      "text/plain": [
       "[]"
      ]
     },
     "execution_count": 46,
     "metadata": {},
     "output_type": "execute_result"
    }
   ],
   "source": [
    "[item for item in collection2 if item['model_class'] != 'DatasetCollectionElement']"
   ]
  },
  {
   "cell_type": "code",
   "execution_count": 60,
   "metadata": {},
   "outputs": [
    {
     "data": {
      "text/plain": [
       "[('R219-L1-P01-ATCACG-',\n",
       "  '652c6e153d8fab36',\n",
       "  'htseq-count on data 2237 and data 1677'),\n",
       " ('R219-L1-P02-CGATGT-',\n",
       "  'eac4142f40a115d5',\n",
       "  'htseq-count on data 2237 and data 1678'),\n",
       " ('R219-L1-P03-TTAGGC-',\n",
       "  '540c073e67632cec',\n",
       "  'htseq-count on data 2237 and data 1679'),\n",
       " ('R219-L1-P04-TGACCA-',\n",
       "  'cb7b3da348f26a93',\n",
       "  'htseq-count on data 2237 and data 1680'),\n",
       " ('R219-L1-P05-ACAGTG-',\n",
       "  '6f20225e3cebcd9a',\n",
       "  'htseq-count on data 2237 and data 1681')]"
      ]
     },
     "execution_count": 60,
     "metadata": {},
     "output_type": "execute_result"
    }
   ],
   "source": [
    "mo_datasets = [(item['element_identifier'], item['object']['id'], item['object']['name']) for item in collection2]\n",
    "mo_datasets[:5]"
   ]
  },
  {
   "cell_type": "code",
   "execution_count": 62,
   "metadata": {},
   "outputs": [
    {
     "data": {
      "text/plain": [
       "[{'id': 'F712bb19b076d5e1a',\n",
       "  'name': 'iPSC',\n",
       "  'url': '/api/libraries/ba751ee0539fff04/contents/F712bb19b076d5e1a'}]"
      ]
     },
     "execution_count": 62,
     "metadata": {},
     "output_type": "execute_result"
    }
   ],
   "source": [
    "galaxyInstance.libraries.create_folder(transcriptomics_level3_library_id, \"iPSC\")"
   ]
  },
  {
   "cell_type": "code",
   "execution_count": 63,
   "metadata": {
    "scrolled": true
   },
   "outputs": [],
   "source": [
    "for dataset in datasets:\n",
    "    galaxyInstance.libraries.copy_from_dataset(transcriptomics_level3_library_id, dataset[1], folder_id='F712bb19b076d5e1a')"
   ]
  },
  {
   "cell_type": "code",
   "execution_count": 64,
   "metadata": {},
   "outputs": [],
   "source": [
    "for dataset in mo_datasets:\n",
    "    galaxyInstance.libraries.copy_from_dataset(transcriptomics_level3_library_id, dataset[1], folder_id='F712bb19b076d5e1a')"
   ]
  },
  {
   "cell_type": "markdown",
   "metadata": {},
   "source": [
    "### i. `NeuroLINCS Exp 2: iMNs - RNAseq Pipeline`"
   ]
  },
  {
   "cell_type": "code",
   "execution_count": 65,
   "metadata": {},
   "outputs": [],
   "source": [
    "history_contents = galaxyInstance.histories.show_history(RNAseq_history_IDs[1], contents=True)"
   ]
  },
  {
   "cell_type": "code",
   "execution_count": 66,
   "metadata": {},
   "outputs": [
    {
     "data": {
      "text/plain": [
       "[('53baad0929431091', 'LINCS_iMN_30JUL2015_rawreads - fastq'),\n",
       " ('fdb0150c645315f6', 'FastQC on collection 163: Webpage'),\n",
       " ('da8c1c7e2e6e28c7', 'FastQC on collection 163: RawData'),\n",
       " ('9301843aab84a406', 'Trimmomatic on collection 163: paired'),\n",
       " ('df6be339a52c816d', 'Trimmomatic on collection 163: unpaired'),\n",
       " ('f09f4fc56bdd0c92', 'TopHat on collection 815: deletions'),\n",
       " ('c247aa4ca71d0a48', 'TopHat on collection 815: align_summary'),\n",
       " ('687964d2abc1d496', 'TopHat on collection 815: insertions'),\n",
       " ('c5770bc5f3721970', 'TopHat on collection 815: accepted_hits'),\n",
       " ('64ed206b5444cf1a', 'TopHat on collection 815: splice junctions'),\n",
       " ('e4c0e60daf76dabb', 'Sort on collection 1225'),\n",
       " ('424aa8a9e0f64384', 'htseq-count on collection 1308 (no feature)'),\n",
       " ('4d6b7ca01eb9ee3d', 'htseq-count on collection 1308')]"
      ]
     },
     "execution_count": 66,
     "metadata": {},
     "output_type": "execute_result"
    }
   ],
   "source": [
    "collections = [(item['id'], item['name']) for item in history_contents if item['history_content_type'] == 'dataset_collection' and not item['deleted']]\n",
    "collections"
   ]
  },
  {
   "cell_type": "code",
   "execution_count": 67,
   "metadata": {},
   "outputs": [],
   "source": [
    "output_collection_ids = ['424aa8a9e0f64384', '4d6b7ca01eb9ee3d']"
   ]
  },
  {
   "cell_type": "code",
   "execution_count": 68,
   "metadata": {},
   "outputs": [],
   "source": [
    "collection3 = galaxyInstance.histories.show_dataset_collection(RNAseq_history_IDs[1],output_collection_ids[0])['elements']"
   ]
  },
  {
   "cell_type": "code",
   "execution_count": 69,
   "metadata": {},
   "outputs": [
    {
     "data": {
      "text/plain": [
       "[]"
      ]
     },
     "execution_count": 69,
     "metadata": {},
     "output_type": "execute_result"
    }
   ],
   "source": [
    "[item for item in collection3 if item['model_class'] != 'DatasetCollectionElement']"
   ]
  },
  {
   "cell_type": "code",
   "execution_count": 71,
   "metadata": {},
   "outputs": [
    {
     "data": {
      "text/plain": [
       "[('R231-L3-P01-ATCACG-',\n",
       "  '73f6f654445026ee',\n",
       "  'htseq-count on data 1556 and data 1227 (no feature)'),\n",
       " ('R231-L3-P02-CGATGT-',\n",
       "  '3ee0e0207e20aff6',\n",
       "  'htseq-count on data 1556 and data 1228 (no feature)'),\n",
       " ('R231-L3-P03-TTAGGC-',\n",
       "  'f4cef392d41f7f78',\n",
       "  'htseq-count on data 1556 and data 1229 (no feature)'),\n",
       " ('R231-L3-P04-TGACCA-',\n",
       "  'f324b775074c7e75',\n",
       "  'htseq-count on data 1556 and data 1230 (no feature)'),\n",
       " ('R231-L3-P05-ACAGTG-',\n",
       "  '384a4cca7cdb80b9',\n",
       "  'htseq-count on data 1556 and data 1231 (no feature)')]"
      ]
     },
     "execution_count": 71,
     "metadata": {},
     "output_type": "execute_result"
    }
   ],
   "source": [
    "datasets3 = [(item['element_identifier'], item['object']['id'], item['object']['name']) for item in collection3]\n",
    "datasets3[:5]"
   ]
  },
  {
   "cell_type": "code",
   "execution_count": 72,
   "metadata": {},
   "outputs": [],
   "source": [
    "collection4 = galaxyInstance.histories.show_dataset_collection(RNAseq_history_IDs[1],output_collection_ids[1])['elements']"
   ]
  },
  {
   "cell_type": "code",
   "execution_count": 74,
   "metadata": {},
   "outputs": [
    {
     "data": {
      "text/plain": [
       "[]"
      ]
     },
     "execution_count": 74,
     "metadata": {},
     "output_type": "execute_result"
    }
   ],
   "source": [
    "[item for item in collection4 if item['model_class'] != 'DatasetCollectionElement']"
   ]
  },
  {
   "cell_type": "code",
   "execution_count": 75,
   "metadata": {},
   "outputs": [
    {
     "data": {
      "text/plain": [
       "[('R231-L3-P01-ATCACG-',\n",
       "  'cb3193d5b0baf0f9',\n",
       "  'htseq-count on data 1556 and data 1227'),\n",
       " ('R231-L3-P02-CGATGT-',\n",
       "  '6b8fb61ab0fcf61f',\n",
       "  'htseq-count on data 1556 and data 1228'),\n",
       " ('R231-L3-P03-TTAGGC-',\n",
       "  '02f5b613a7345076',\n",
       "  'htseq-count on data 1556 and data 1229'),\n",
       " ('R231-L3-P04-TGACCA-',\n",
       "  'a3bb5e2a6ccb4d65',\n",
       "  'htseq-count on data 1556 and data 1230'),\n",
       " ('R231-L3-P05-ACAGTG-',\n",
       "  'acf1972cab0da102',\n",
       "  'htseq-count on data 1556 and data 1231')]"
      ]
     },
     "execution_count": 75,
     "metadata": {},
     "output_type": "execute_result"
    }
   ],
   "source": [
    "datasets4 = [(item['element_identifier'], item['object']['id'], item['object']['name']) for item in collection4]\n",
    "datasets4[:5]"
   ]
  },
  {
   "cell_type": "code",
   "execution_count": 76,
   "metadata": {},
   "outputs": [
    {
     "data": {
      "text/plain": [
       "[{'id': 'Fa8146cfb819e54ec',\n",
       "  'name': 'iMN',\n",
       "  'url': '/api/libraries/ba751ee0539fff04/contents/Fa8146cfb819e54ec'}]"
      ]
     },
     "execution_count": 76,
     "metadata": {},
     "output_type": "execute_result"
    }
   ],
   "source": [
    "galaxyInstance.libraries.create_folder(transcriptomics_level3_library_id, \"iMN\")"
   ]
  },
  {
   "cell_type": "code",
   "execution_count": 77,
   "metadata": {},
   "outputs": [],
   "source": [
    "for dataset in datasets3:\n",
    "    galaxyInstance.libraries.copy_from_dataset(transcriptomics_level3_library_id, dataset[1], folder_id='Fa8146cfb819e54ec')"
   ]
  },
  {
   "cell_type": "code",
   "execution_count": 78,
   "metadata": {},
   "outputs": [],
   "source": [
    "for dataset in datasets4:\n",
    "    galaxyInstance.libraries.copy_from_dataset(transcriptomics_level3_library_id, dataset[1], folder_id='Fa8146cfb819e54ec')"
   ]
  },
  {
   "cell_type": "code",
   "execution_count": null,
   "metadata": {},
   "outputs": [],
   "source": []
  }
 ],
 "metadata": {
  "kernelspec": {
   "display_name": "Python 3",
   "language": "python",
   "name": "python3"
  },
  "language_info": {
   "codemirror_mode": {
    "name": "ipython",
    "version": 3
   },
   "file_extension": ".py",
   "mimetype": "text/x-python",
   "name": "python",
   "nbconvert_exporter": "python",
   "pygments_lexer": "ipython3",
   "version": "3.6.4"
  }
 },
 "nbformat": 4,
 "nbformat_minor": 2
}
