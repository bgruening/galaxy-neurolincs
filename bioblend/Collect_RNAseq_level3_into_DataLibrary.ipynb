{
 "cells": [
  {
   "cell_type": "markdown",
   "metadata": {},
   "source": [
    "# Collect RNAseq level3 data into a data library"
   ]
  },
  {
   "cell_type": "code",
   "execution_count": 1,
   "metadata": {},
   "outputs": [],
   "source": [
    "import sys\n",
    "import os\n",
    "from glob import glob as GlobToFilePaths\n",
    "from bioblend.galaxy import GalaxyInstance\n",
    "from bioblend.galaxy.histories import HistoryClient\n",
    "from bioblend.galaxy.tools import ToolClient\n",
    "from bioblend.galaxy.workflows import WorkflowClient\n",
    "from bioblend.galaxy.datasets import DatasetClient\n",
    "from bioblend.galaxy.libraries import LibraryClient"
   ]
  },
  {
   "cell_type": "markdown",
   "metadata": {},
   "source": [
    "## I. Connect to Galaxy Instance\n",
    "\n",
    "#### You will need a `.env` file with your API_KEY"
   ]
  },
  {
   "cell_type": "code",
   "execution_count": 2,
   "metadata": {},
   "outputs": [
    {
     "name": "stdout",
     "output_type": "stream",
     "text": [
      "Loading : /Users/alex/Documents/galaxy-neurolincs/bioblend/.env\n",
      "The .env file has been loaded.\n"
     ]
    }
   ],
   "source": [
    "import environ\n",
    "\n",
    "ROOT_DIR = environ.Path('.')\n",
    "\n",
    "# Load operating system environment variables and then prepare to use them\n",
    "env = environ.Env()\n",
    "\n",
    "# Operating System Environment variables have precedence over variables defined in the .env file,\n",
    "# that is to say variables from the .env files will only be used if not defined\n",
    "# as environment variables.\n",
    "env_file = str(ROOT_DIR.path('.env'))\n",
    "print('Loading : {}'.format(env_file))\n",
    "env.read_env(env_file)\n",
    "print('The .env file has been loaded.')"
   ]
  },
  {
   "cell_type": "code",
   "execution_count": 3,
   "metadata": {},
   "outputs": [
    {
     "data": {
      "text/plain": [
       "False"
      ]
     },
     "execution_count": 3,
     "metadata": {},
     "output_type": "execute_result"
    }
   ],
   "source": [
    "GALAXY_URL = \"https://answer.csbi.mit.edu\"\n",
    "API_KEY = env(\"API_KEY\")\n",
    "API_KEY == None"
   ]
  },
  {
   "cell_type": "code",
   "execution_count": 4,
   "metadata": {},
   "outputs": [],
   "source": [
    "galaxyInstance = GalaxyInstance(url=GALAXY_URL, key=API_KEY)"
   ]
  },
  {
   "cell_type": "markdown",
   "metadata": {},
   "source": [
    "## II. Get All RNAseq Histories"
   ]
  },
  {
   "cell_type": "code",
   "execution_count": 5,
   "metadata": {
    "scrolled": false
   },
   "outputs": [
    {
     "data": {
      "text/plain": [
       "[{'annotation': None,\n",
       "  'deleted': False,\n",
       "  'id': '68013dab1c13fb37',\n",
       "  'model_class': 'History',\n",
       "  'name': 'iPSC test 2',\n",
       "  'published': True,\n",
       "  'purged': False,\n",
       "  'tags': [],\n",
       "  'url': '/api/histories/68013dab1c13fb37'},\n",
       " {'annotation': None,\n",
       "  'deleted': False,\n",
       "  'id': 'ceefdfd6cf7aa5ad',\n",
       "  'model_class': 'History',\n",
       "  'name': 'iPSC NEW PIPELINE TEST 20180205',\n",
       "  'published': True,\n",
       "  'purged': False,\n",
       "  'tags': [],\n",
       "  'url': '/api/histories/ceefdfd6cf7aa5ad'},\n",
       " {'annotation': None,\n",
       "  'deleted': False,\n",
       "  'id': '49ee1ea2b297a18d',\n",
       "  'model_class': 'History',\n",
       "  'name': 'iMNS NEW PIPELINE TEST 20180202',\n",
       "  'published': True,\n",
       "  'purged': False,\n",
       "  'tags': [],\n",
       "  'url': '/api/histories/49ee1ea2b297a18d'},\n",
       " {'annotation': None,\n",
       "  'deleted': False,\n",
       "  'id': '9005c5112febe774',\n",
       "  'model_class': 'History',\n",
       "  'name': 'd32_diMNs NEW PIPELINE TEST 20180131',\n",
       "  'published': True,\n",
       "  'purged': False,\n",
       "  'tags': [],\n",
       "  'url': '/api/histories/9005c5112febe774'},\n",
       " {'annotation': None,\n",
       "  'deleted': False,\n",
       "  'id': '0c1da521da72c0b0',\n",
       "  'model_class': 'History',\n",
       "  'name': 'd18diMNs NEW PIPELINE TEST 20180131',\n",
       "  'published': True,\n",
       "  'purged': False,\n",
       "  'tags': [],\n",
       "  'url': '/api/histories/0c1da521da72c0b0'},\n",
       " {'annotation': None,\n",
       "  'deleted': False,\n",
       "  'id': '0b900c60f93c0654',\n",
       "  'model_class': 'History',\n",
       "  'name': 'NeuroLINCS iMNs: (level1 > level3) RNAseq pipeline history',\n",
       "  'published': True,\n",
       "  'purged': False,\n",
       "  'tags': [],\n",
       "  'url': '/api/histories/0b900c60f93c0654'},\n",
       " {'annotation': None,\n",
       "  'deleted': False,\n",
       "  'id': '6b7e1d14aa0742ec',\n",
       "  'model_class': 'History',\n",
       "  'name': 'NeuroLINCS iPSC: (level1 > level3) RNAseq pipeline history',\n",
       "  'published': True,\n",
       "  'purged': False,\n",
       "  'tags': [],\n",
       "  'url': '/api/histories/6b7e1d14aa0742ec'},\n",
       " {'annotation': None,\n",
       "  'deleted': False,\n",
       "  'id': '1e3a7ada6d556982',\n",
       "  'model_class': 'History',\n",
       "  'name': 'Peak_Calling_Test_iMNs',\n",
       "  'published': True,\n",
       "  'purged': False,\n",
       "  'tags': [],\n",
       "  'url': '/api/histories/1e3a7ada6d556982'},\n",
       " {'annotation': None,\n",
       "  'deleted': False,\n",
       "  'id': 'd0bfe935d0f5258d',\n",
       "  'model_class': 'History',\n",
       "  'name': 'NeuroLINCS Exp 2: iMNs - ATAC pipeline',\n",
       "  'published': True,\n",
       "  'purged': False,\n",
       "  'tags': [],\n",
       "  'url': '/api/histories/d0bfe935d0f5258d'},\n",
       " {'annotation': None,\n",
       "  'deleted': False,\n",
       "  'id': '36ddb788a0f14eb3',\n",
       "  'model_class': 'History',\n",
       "  'name': 'NeuroLINCS Exp 3: d18 diMNs - ATAC pipeline',\n",
       "  'published': True,\n",
       "  'purged': False,\n",
       "  'tags': [],\n",
       "  'url': '/api/histories/36ddb788a0f14eb3'},\n",
       " {'annotation': None,\n",
       "  'deleted': False,\n",
       "  'id': 'f0f309c56aff0025',\n",
       "  'model_class': 'History',\n",
       "  'name': 'NeuroLINCS iMNs Johns Hopkins - ATAC pipeline',\n",
       "  'published': True,\n",
       "  'purged': False,\n",
       "  'tags': [],\n",
       "  'url': '/api/histories/f0f309c56aff0025'},\n",
       " {'annotation': None,\n",
       "  'deleted': False,\n",
       "  'id': '52e496b945151ee8',\n",
       "  'model_class': 'History',\n",
       "  'name': 'd32 diMNs Johns Hopkins - ATAC pipeline',\n",
       "  'published': True,\n",
       "  'purged': False,\n",
       "  'tags': [],\n",
       "  'url': '/api/histories/52e496b945151ee8'},\n",
       " {'annotation': None,\n",
       "  'deleted': False,\n",
       "  'id': 'f7bb1edd6b95db62',\n",
       "  'model_class': 'History',\n",
       "  'name': 'NeuroLINCS Exp 4: d32 diMNs - ATAC pipeline',\n",
       "  'published': True,\n",
       "  'purged': False,\n",
       "  'tags': [],\n",
       "  'url': '/api/histories/f7bb1edd6b95db62'}]"
      ]
     },
     "execution_count": 5,
     "metadata": {},
     "output_type": "execute_result"
    }
   ],
   "source": [
    "published_histories = [history for history in galaxyInstance.histories.get_histories() if history['published']]\n",
    "published_histories"
   ]
  },
  {
   "cell_type": "code",
   "execution_count": 9,
   "metadata": {},
   "outputs": [
    {
     "data": {
      "text/plain": [
       "['0b900c60f93c0654', '6b7e1d14aa0742ec']"
      ]
     },
     "execution_count": 9,
     "metadata": {},
     "output_type": "execute_result"
    }
   ],
   "source": [
    "RNAseq_history_IDs = [history['id'] for history in published_histories if \"RNAseq\" in history[\"name\"]]\n",
    "RNAseq_history_IDs"
   ]
  },
  {
   "cell_type": "code",
   "execution_count": 10,
   "metadata": {},
   "outputs": [
    {
     "data": {
      "text/plain": [
       "[{'annotation': None,\n",
       "  'deleted': False,\n",
       "  'id': '0b900c60f93c0654',\n",
       "  'model_class': 'History',\n",
       "  'name': 'NeuroLINCS iMNs: (level1 > level3) RNAseq pipeline history',\n",
       "  'published': True,\n",
       "  'purged': False,\n",
       "  'tags': [],\n",
       "  'url': '/api/histories/0b900c60f93c0654'},\n",
       " {'annotation': None,\n",
       "  'deleted': False,\n",
       "  'id': '6b7e1d14aa0742ec',\n",
       "  'model_class': 'History',\n",
       "  'name': 'NeuroLINCS iPSC: (level1 > level3) RNAseq pipeline history',\n",
       "  'published': True,\n",
       "  'purged': False,\n",
       "  'tags': [],\n",
       "  'url': '/api/histories/6b7e1d14aa0742ec'}]"
      ]
     },
     "execution_count": 10,
     "metadata": {},
     "output_type": "execute_result"
    }
   ],
   "source": [
    "published_RNAseq_histories = [h for h in published_histories if h['id'] in RNAseq_history_IDs]\n",
    "published_RNAseq_histories"
   ]
  },
  {
   "cell_type": "markdown",
   "metadata": {},
   "source": [
    "## III. Get Destination Data Library"
   ]
  },
  {
   "cell_type": "code",
   "execution_count": 58,
   "metadata": {},
   "outputs": [
    {
     "data": {
      "text/plain": [
       "[{'can_user_add': True,\n",
       "  'can_user_manage': True,\n",
       "  'can_user_modify': True,\n",
       "  'create_time': '2017-10-20T19:31:11.948329',\n",
       "  'create_time_pretty': '2 months ago',\n",
       "  'deleted': False,\n",
       "  'description': '',\n",
       "  'id': 'ba751ee0539fff04',\n",
       "  'model_class': 'Library',\n",
       "  'name': 'NeuroLINCS - Transcriptomics - Level 3 (counts)',\n",
       "  'root_folder_id': 'Fbefc5c2fe5c30689',\n",
       "  'synopsis': ''}]"
      ]
     },
     "execution_count": 58,
     "metadata": {},
     "output_type": "execute_result"
    }
   ],
   "source": [
    "transcriptomics_level3_library = [item for item in galaxyInstance.libraries.get_libraries() if item['name'] == 'NeuroLINCS - Transcriptomics - Level 3 (counts)']\n",
    "transcriptomics_level3_library_id = transcriptomics_level3_library[0]['id']\n",
    "transcriptomics_level3_library"
   ]
  },
  {
   "cell_type": "markdown",
   "metadata": {},
   "source": [
    "## IV. Upload all output datasets from each RNAseq history"
   ]
  },
  {
   "cell_type": "markdown",
   "metadata": {},
   "source": [
    "### i. `NeuroLINCS Exp 1: iPSC - RNAseq Pipeline`"
   ]
  },
  {
   "cell_type": "code",
   "execution_count": 11,
   "metadata": {
    "scrolled": true
   },
   "outputs": [],
   "source": [
    "history_contents = galaxyInstance.histories.show_history(RNAseq_history_IDs[0], contents=True)"
   ]
  },
  {
   "cell_type": "code",
   "execution_count": 12,
   "metadata": {},
   "outputs": [
    {
     "data": {
      "text/plain": [
       "[('10d2377e3553f019', 'NeuroLINCS iMNs: fastqs'),\n",
       " ('1f2ff62a1063e808', 'FastQC on collection 163: Webpage'),\n",
       " ('9f916718ff70f082', 'FastQC on collection 163: RawData'),\n",
       " ('b3d4dd46673b4cd9', 'Trimmomatic on collection 163: paired'),\n",
       " ('bc339828b9a45763', 'Trimmomatic on collection 163: unpaired'),\n",
       " ('1d5a38af5ddad1da', 'TopHat on collection 815: deletions'),\n",
       " ('1b4890ecbaeb5091', 'TopHat on collection 815: align_summary'),\n",
       " ('484e0b6740dcf97a', 'TopHat on collection 815: insertions'),\n",
       " ('aa9bc7d7deb6c67f', 'TopHat on collection 815: accepted_hits'),\n",
       " ('0bd9d7603257dfc1', 'TopHat on collection 815: splice junctions'),\n",
       " ('4758bcb5e6921b84', 'featureCounts on collection 1225: summary'),\n",
       " ('067ff85fccf28736', 'featureCounts on collection 1225')]"
      ]
     },
     "execution_count": 12,
     "metadata": {},
     "output_type": "execute_result"
    }
   ],
   "source": [
    "collections = [(item['id'], item['name']) for item in history_contents if item['history_content_type'] == 'dataset_collection' and not item['deleted']]\n",
    "collections"
   ]
  },
  {
   "cell_type": "code",
   "execution_count": 13,
   "metadata": {},
   "outputs": [],
   "source": [
    "output_collection_ids = ['067ff85fccf28736']"
   ]
  },
  {
   "cell_type": "code",
   "execution_count": 14,
   "metadata": {
    "scrolled": true
   },
   "outputs": [],
   "source": [
    "collection1 = galaxyInstance.histories.show_dataset_collection(RNAseq_history_IDs[0],output_collection_ids[0])['elements']"
   ]
  },
  {
   "cell_type": "code",
   "execution_count": 15,
   "metadata": {},
   "outputs": [
    {
     "data": {
      "text/plain": [
       "[]"
      ]
     },
     "execution_count": 15,
     "metadata": {},
     "output_type": "execute_result"
    }
   ],
   "source": [
    "[item for item in collection1 if item['model_class'] != 'DatasetCollectionElement']"
   ]
  },
  {
   "cell_type": "code",
   "execution_count": 16,
   "metadata": {
    "scrolled": false
   },
   "outputs": [
    {
     "data": {
      "text/plain": [
       "[('R231-L3-P01-ATCACG--Sequences',\n",
       "  '9d5c8285b392eb55',\n",
       "  'featureCounts on data 164 and data 821'),\n",
       " ('R231-L3-P02-CGATGT--Sequences',\n",
       "  'dfa75c894b03b95d',\n",
       "  'featureCounts on data 164 and data 826'),\n",
       " ('R231-L3-P03-TTAGGC--Sequences',\n",
       "  '4e196eddbeeb8d11',\n",
       "  'featureCounts on data 164 and data 831'),\n",
       " ('R231-L3-P04-TGACCA--Sequences',\n",
       "  '2174cd1ac32b7d7a',\n",
       "  'featureCounts on data 164 and data 836'),\n",
       " ('R231-L3-P05-ACAGTG--Sequences',\n",
       "  '791ca9b7466fda64',\n",
       "  'featureCounts on data 164 and data 841')]"
      ]
     },
     "execution_count": 16,
     "metadata": {},
     "output_type": "execute_result"
    }
   ],
   "source": [
    "datasets = [(item['element_identifier'], item['object']['id'], item['object']['name']) for item in collection1]\n",
    "datasets[:5]"
   ]
  },
  {
   "cell_type": "code",
   "execution_count": 22,
   "metadata": {},
   "outputs": [
    {
     "name": "stdout",
     "output_type": "stream",
     "text": [
      "('R231-L7-P10-GTGAAA--Sequences', '477c23da7548c0da', 'featureCounts on data 164 and data 1141')\n",
      "('R231-L7-P11-GTGGCC--Sequences', 'a2ab7b3b87093bc2', 'featureCounts on data 164 and data 1146')\n",
      "('R231-L7-P12-ACTGAT--Sequences', '98c3ae82f4c28563', 'featureCounts on data 164 and data 1151')\n",
      "('R231-L8-P03-TTAGGC--Sequences', '6aa067d17905128c', 'featureCounts on data 164 and data 1171')\n",
      "('R231-L8-P09-ATGTCA--Sequences', 'c7a4d14636e052fb', 'featureCounts on data 164 and data 1201')\n",
      "('R231-L8-P10-GTGAAA--Sequences', '7d60c85abc8c9d41', 'featureCounts on data 164 and data 1206')\n",
      "('R231-L8-P11-GTGGCC--Sequences', '944a6f7e53c4b019', 'featureCounts on data 164 and data 1211')\n",
      "('R231-L8-P12-ACTGAT--Sequences', '581fb13be8269fe0', 'featureCounts on data 164 and data 1216')\n"
     ]
    }
   ],
   "source": [
    "for dataset in datasets:\n",
    "    try: \n",
    "        galaxyInstance.datasets.download_dataset(dataset[1], file_path=dataset[0], use_default_filename=False)\n",
    "    except: \n",
    "        print(dataset)"
   ]
  },
  {
   "cell_type": "code",
   "execution_count": null,
   "metadata": {},
   "outputs": [],
   "source": []
  },
  {
   "cell_type": "code",
   "execution_count": 17,
   "metadata": {},
   "outputs": [
    {
     "ename": "IndexError",
     "evalue": "list index out of range",
     "output_type": "error",
     "traceback": [
      "\u001b[0;31m---------------------------------------------------------------------------\u001b[0m",
      "\u001b[0;31mIndexError\u001b[0m                                Traceback (most recent call last)",
      "\u001b[0;32m<ipython-input-17-6e4ace795107>\u001b[0m in \u001b[0;36m<module>\u001b[0;34m()\u001b[0m\n\u001b[0;32m----> 1\u001b[0;31m \u001b[0mcollection2\u001b[0m \u001b[0;34m=\u001b[0m \u001b[0mgalaxyInstance\u001b[0m\u001b[0;34m.\u001b[0m\u001b[0mhistories\u001b[0m\u001b[0;34m.\u001b[0m\u001b[0mshow_dataset_collection\u001b[0m\u001b[0;34m(\u001b[0m\u001b[0mRNAseq_history_IDs\u001b[0m\u001b[0;34m[\u001b[0m\u001b[0;36m0\u001b[0m\u001b[0;34m]\u001b[0m\u001b[0;34m,\u001b[0m\u001b[0moutput_collection_ids\u001b[0m\u001b[0;34m[\u001b[0m\u001b[0;36m1\u001b[0m\u001b[0;34m]\u001b[0m\u001b[0;34m)\u001b[0m\u001b[0;34m[\u001b[0m\u001b[0;34m'elements'\u001b[0m\u001b[0;34m]\u001b[0m\u001b[0;34m\u001b[0m\u001b[0m\n\u001b[0m",
      "\u001b[0;31mIndexError\u001b[0m: list index out of range"
     ]
    }
   ],
   "source": [
    "collection2 = galaxyInstance.histories.show_dataset_collection(RNAseq_history_IDs[0],output_collection_ids[1])['elements']"
   ]
  },
  {
   "cell_type": "code",
   "execution_count": 18,
   "metadata": {},
   "outputs": [
    {
     "ename": "NameError",
     "evalue": "name 'collection2' is not defined",
     "output_type": "error",
     "traceback": [
      "\u001b[0;31m---------------------------------------------------------------------------\u001b[0m",
      "\u001b[0;31mNameError\u001b[0m                                 Traceback (most recent call last)",
      "\u001b[0;32m<ipython-input-18-bbe0d653de87>\u001b[0m in \u001b[0;36m<module>\u001b[0;34m()\u001b[0m\n\u001b[0;32m----> 1\u001b[0;31m \u001b[0;34m[\u001b[0m\u001b[0mitem\u001b[0m \u001b[0;32mfor\u001b[0m \u001b[0mitem\u001b[0m \u001b[0;32min\u001b[0m \u001b[0mcollection2\u001b[0m \u001b[0;32mif\u001b[0m \u001b[0mitem\u001b[0m\u001b[0;34m[\u001b[0m\u001b[0;34m'model_class'\u001b[0m\u001b[0;34m]\u001b[0m \u001b[0;34m!=\u001b[0m \u001b[0;34m'DatasetCollectionElement'\u001b[0m\u001b[0;34m]\u001b[0m\u001b[0;34m\u001b[0m\u001b[0m\n\u001b[0m",
      "\u001b[0;31mNameError\u001b[0m: name 'collection2' is not defined"
     ]
    }
   ],
   "source": [
    "[item for item in collection2 if item['model_class'] != 'DatasetCollectionElement']"
   ]
  },
  {
   "cell_type": "code",
   "execution_count": 60,
   "metadata": {},
   "outputs": [
    {
     "data": {
      "text/plain": [
       "[('R219-L1-P01-ATCACG-',\n",
       "  '652c6e153d8fab36',\n",
       "  'htseq-count on data 2237 and data 1677'),\n",
       " ('R219-L1-P02-CGATGT-',\n",
       "  'eac4142f40a115d5',\n",
       "  'htseq-count on data 2237 and data 1678'),\n",
       " ('R219-L1-P03-TTAGGC-',\n",
       "  '540c073e67632cec',\n",
       "  'htseq-count on data 2237 and data 1679'),\n",
       " ('R219-L1-P04-TGACCA-',\n",
       "  'cb7b3da348f26a93',\n",
       "  'htseq-count on data 2237 and data 1680'),\n",
       " ('R219-L1-P05-ACAGTG-',\n",
       "  '6f20225e3cebcd9a',\n",
       "  'htseq-count on data 2237 and data 1681')]"
      ]
     },
     "execution_count": 60,
     "metadata": {},
     "output_type": "execute_result"
    }
   ],
   "source": [
    "mo_datasets = [(item['element_identifier'], item['object']['id'], item['object']['name']) for item in collection2]\n",
    "mo_datasets[:5]"
   ]
  },
  {
   "cell_type": "code",
   "execution_count": 62,
   "metadata": {},
   "outputs": [
    {
     "data": {
      "text/plain": [
       "[{'id': 'F712bb19b076d5e1a',\n",
       "  'name': 'iPSC',\n",
       "  'url': '/api/libraries/ba751ee0539fff04/contents/F712bb19b076d5e1a'}]"
      ]
     },
     "execution_count": 62,
     "metadata": {},
     "output_type": "execute_result"
    }
   ],
   "source": [
    "galaxyInstance.libraries.create_folder(transcriptomics_level3_library_id, \"iPSC\")"
   ]
  },
  {
   "cell_type": "code",
   "execution_count": 63,
   "metadata": {
    "scrolled": true
   },
   "outputs": [],
   "source": [
    "for dataset in datasets:\n",
    "    galaxyInstance.libraries.copy_from_dataset(transcriptomics_level3_library_id, dataset[1], folder_id='F712bb19b076d5e1a')"
   ]
  },
  {
   "cell_type": "code",
   "execution_count": 64,
   "metadata": {},
   "outputs": [],
   "source": [
    "for dataset in mo_datasets:\n",
    "    galaxyInstance.libraries.copy_from_dataset(transcriptomics_level3_library_id, dataset[1], folder_id='F712bb19b076d5e1a')"
   ]
  },
  {
   "cell_type": "markdown",
   "metadata": {},
   "source": [
    "### i. `NeuroLINCS Exp 2: iMNs - RNAseq Pipeline`"
   ]
  },
  {
   "cell_type": "code",
   "execution_count": 23,
   "metadata": {},
   "outputs": [],
   "source": [
    "history_contents = galaxyInstance.histories.show_history(RNAseq_history_IDs[1], contents=True)"
   ]
  },
  {
   "cell_type": "code",
   "execution_count": 24,
   "metadata": {},
   "outputs": [
    {
     "data": {
      "text/plain": [
       "[('449edefbd273aad3', 'NeuroLINCS iPSC: fastqs'),\n",
       " ('5037c6a2beeaab0f', 'FastQC on collection 223: Webpage'),\n",
       " ('a022b13d513a18a6', 'FastQC on collection 223: RawData'),\n",
       " ('c89a7b7b675d5362', 'Trimmomatic on collection 223: paired'),\n",
       " ('e3ca3db0a290510f', 'Trimmomatic on collection 223: unpaired'),\n",
       " ('24a31d159cba9d38', 'TopHat on collection 1115: deletions'),\n",
       " ('5ad66ab0f6c619e8', 'TopHat on collection 1115: align_summary'),\n",
       " ('2924410f55e55fcb', 'TopHat on collection 1115: insertions'),\n",
       " ('7f52853230b573e4', 'TopHat on collection 1115: accepted_hits'),\n",
       " ('8fbe42edce4b2753', 'TopHat on collection 1115: splice junctions'),\n",
       " ('f0315bfa1fadf37a', 'featureCounts on collection 1675: summary'),\n",
       " ('abb4fffc3f994d02', 'featureCounts on collection 1675'),\n",
       " ('508ccef795c2a59e', 'featureCounts on collection 1675: summary'),\n",
       " ('f52c95b2c7ffaf93', 'featureCounts on collection 1675')]"
      ]
     },
     "execution_count": 24,
     "metadata": {},
     "output_type": "execute_result"
    }
   ],
   "source": [
    "collections = [(item['id'], item['name']) for item in history_contents if item['history_content_type'] == 'dataset_collection' and not item['deleted']]\n",
    "collections"
   ]
  },
  {
   "cell_type": "code",
   "execution_count": 25,
   "metadata": {},
   "outputs": [],
   "source": [
    "output_collection_ids = ['f52c95b2c7ffaf93']"
   ]
  },
  {
   "cell_type": "code",
   "execution_count": 26,
   "metadata": {},
   "outputs": [],
   "source": [
    "collection3 = galaxyInstance.histories.show_dataset_collection(RNAseq_history_IDs[1],output_collection_ids[0])['elements']"
   ]
  },
  {
   "cell_type": "code",
   "execution_count": 27,
   "metadata": {},
   "outputs": [
    {
     "data": {
      "text/plain": [
       "[]"
      ]
     },
     "execution_count": 27,
     "metadata": {},
     "output_type": "execute_result"
    }
   ],
   "source": [
    "[item for item in collection3 if item['model_class'] != 'DatasetCollectionElement']"
   ]
  },
  {
   "cell_type": "code",
   "execution_count": 28,
   "metadata": {},
   "outputs": [
    {
     "data": {
      "text/plain": [
       "[('R219-L1-P01-ATCACG--Sequences',\n",
       "  'a03002c7cfa04567',\n",
       "  'featureCounts on data 224 and data 1121'),\n",
       " ('R219-L1-P02-CGATGT--Sequences',\n",
       "  '4b1c0ea4a4c038c4',\n",
       "  'featureCounts on data 224 and data 1126'),\n",
       " ('R219-L1-P03-TTAGGC--Sequences',\n",
       "  '2a7179b07fe301d1',\n",
       "  'featureCounts on data 224 and data 1131'),\n",
       " ('R219-L1-P04-TGACCA--Sequences',\n",
       "  '1308e1c29bca46c9',\n",
       "  'featureCounts on data 224 and data 1136'),\n",
       " ('R219-L1-P05-ACAGTG--Sequences',\n",
       "  'd59465f19e1b900b',\n",
       "  'featureCounts on data 224 and data 1141')]"
      ]
     },
     "execution_count": 28,
     "metadata": {},
     "output_type": "execute_result"
    }
   ],
   "source": [
    "datasets3 = [(item['element_identifier'], item['object']['id'], item['object']['name']) for item in collection3]\n",
    "datasets3[:5]"
   ]
  },
  {
   "cell_type": "code",
   "execution_count": 30,
   "metadata": {},
   "outputs": [],
   "source": [
    "for dataset in datasets3:\n",
    "    try: \n",
    "        galaxyInstance.datasets.download_dataset(dataset[1], file_path=dataset[0], use_default_filename=False)\n",
    "    except: \n",
    "        print(dataset)"
   ]
  },
  {
   "cell_type": "code",
   "execution_count": 72,
   "metadata": {},
   "outputs": [],
   "source": [
    "collection4 = galaxyInstance.histories.show_dataset_collection(RNAseq_history_IDs[1],output_collection_ids[1])['elements']"
   ]
  },
  {
   "cell_type": "code",
   "execution_count": 74,
   "metadata": {},
   "outputs": [
    {
     "data": {
      "text/plain": [
       "[]"
      ]
     },
     "execution_count": 74,
     "metadata": {},
     "output_type": "execute_result"
    }
   ],
   "source": [
    "[item for item in collection4 if item['model_class'] != 'DatasetCollectionElement']"
   ]
  },
  {
   "cell_type": "code",
   "execution_count": 75,
   "metadata": {},
   "outputs": [
    {
     "data": {
      "text/plain": [
       "[('R231-L3-P01-ATCACG-',\n",
       "  'cb3193d5b0baf0f9',\n",
       "  'htseq-count on data 1556 and data 1227'),\n",
       " ('R231-L3-P02-CGATGT-',\n",
       "  '6b8fb61ab0fcf61f',\n",
       "  'htseq-count on data 1556 and data 1228'),\n",
       " ('R231-L3-P03-TTAGGC-',\n",
       "  '02f5b613a7345076',\n",
       "  'htseq-count on data 1556 and data 1229'),\n",
       " ('R231-L3-P04-TGACCA-',\n",
       "  'a3bb5e2a6ccb4d65',\n",
       "  'htseq-count on data 1556 and data 1230'),\n",
       " ('R231-L3-P05-ACAGTG-',\n",
       "  'acf1972cab0da102',\n",
       "  'htseq-count on data 1556 and data 1231')]"
      ]
     },
     "execution_count": 75,
     "metadata": {},
     "output_type": "execute_result"
    }
   ],
   "source": [
    "datasets4 = [(item['element_identifier'], item['object']['id'], item['object']['name']) for item in collection4]\n",
    "datasets4[:5]"
   ]
  },
  {
   "cell_type": "code",
   "execution_count": 76,
   "metadata": {},
   "outputs": [
    {
     "data": {
      "text/plain": [
       "[{'id': 'Fa8146cfb819e54ec',\n",
       "  'name': 'iMN',\n",
       "  'url': '/api/libraries/ba751ee0539fff04/contents/Fa8146cfb819e54ec'}]"
      ]
     },
     "execution_count": 76,
     "metadata": {},
     "output_type": "execute_result"
    }
   ],
   "source": [
    "galaxyInstance.libraries.create_folder(transcriptomics_level3_library_id, \"iMN\")"
   ]
  },
  {
   "cell_type": "code",
   "execution_count": 77,
   "metadata": {},
   "outputs": [],
   "source": [
    "for dataset in datasets3:\n",
    "    galaxyInstance.libraries.copy_from_dataset(transcriptomics_level3_library_id, dataset[1], folder_id='Fa8146cfb819e54ec')"
   ]
  },
  {
   "cell_type": "code",
   "execution_count": 78,
   "metadata": {},
   "outputs": [],
   "source": [
    "for dataset in datasets4:\n",
    "    galaxyInstance.libraries.copy_from_dataset(transcriptomics_level3_library_id, dataset[1], folder_id='Fa8146cfb819e54ec')"
   ]
  },
  {
   "cell_type": "code",
   "execution_count": null,
   "metadata": {},
   "outputs": [],
   "source": []
  }
 ],
 "metadata": {
  "kernelspec": {
   "display_name": "Python 3",
   "language": "python",
   "name": "python3"
  },
  "language_info": {
   "codemirror_mode": {
    "name": "ipython",
    "version": 3
   },
   "file_extension": ".py",
   "mimetype": "text/x-python",
   "name": "python",
   "nbconvert_exporter": "python",
   "pygments_lexer": "ipython3",
   "version": "3.6.4"
  }
 },
 "nbformat": 4,
 "nbformat_minor": 2
}
