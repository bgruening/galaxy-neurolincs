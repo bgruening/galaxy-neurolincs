{
 "cells": [
  {
   "cell_type": "markdown",
   "metadata": {},
   "source": [
    "# Run RNAseq (Level1 > Level3) workflow"
   ]
  },
  {
   "cell_type": "code",
   "execution_count": 1,
   "metadata": {},
   "outputs": [],
   "source": [
    "import sys\n",
    "import os\n",
    "from glob import glob as GlobToFilePaths\n",
    "from bioblend.galaxy import GalaxyInstance\n",
    "from bioblend.galaxy.histories import HistoryClient\n",
    "from bioblend.galaxy.tools import ToolClient\n",
    "from bioblend.galaxy.workflows import WorkflowClient\n",
    "from bioblend.galaxy.datasets import DatasetClient\n",
    "from bioblend.galaxy.libraries import LibraryClient"
   ]
  },
  {
   "cell_type": "markdown",
   "metadata": {},
   "source": [
    "## I. Connect to Galaxy Instance\n",
    "\n",
    "#### You will need a `.env` file with your API_KEY"
   ]
  },
  {
   "cell_type": "code",
   "execution_count": 2,
   "metadata": {},
   "outputs": [
    {
     "name": "stdout",
     "output_type": "stream",
     "text": [
      "Loading : /Users/alex/Documents/galaxy-neurolincs/bioblend/.env\n",
      "The .env file has been loaded.\n"
     ]
    }
   ],
   "source": [
    "import environ\n",
    "\n",
    "ROOT_DIR = environ.Path('.')\n",
    "\n",
    "# Load operating system environment variables and then prepare to use them\n",
    "env = environ.Env()\n",
    "\n",
    "# Operating System Environment variables have precedence over variables defined in the .env file,\n",
    "# that is to say variables from the .env files will only be used if not defined\n",
    "# as environment variables.\n",
    "env_file = str(ROOT_DIR.path('.env'))\n",
    "print('Loading : {}'.format(env_file))\n",
    "env.read_env(env_file)\n",
    "print('The .env file has been loaded.')"
   ]
  },
  {
   "cell_type": "code",
   "execution_count": 3,
   "metadata": {},
   "outputs": [
    {
     "data": {
      "text/plain": [
       "False"
      ]
     },
     "execution_count": 3,
     "metadata": {},
     "output_type": "execute_result"
    }
   ],
   "source": [
    "GALAXY_URL = \"https://answer.csbi.mit.edu\"\n",
    "API_KEY = env(\"API_KEY\")\n",
    "API_KEY == None"
   ]
  },
  {
   "cell_type": "code",
   "execution_count": 5,
   "metadata": {},
   "outputs": [],
   "source": [
    "galaxyInstance = GalaxyInstance(url=GALAXY_URL, key=API_KEY)"
   ]
  },
  {
   "cell_type": "markdown",
   "metadata": {},
   "source": [
    "## II. Collect RNAseq Data\n",
    "\n",
    "#### (Assumes the histories have been set up)\n",
    "\n"
   ]
  },
  {
   "cell_type": "code",
   "execution_count": null,
   "metadata": {},
   "outputs": [],
   "source": []
  },
  {
   "cell_type": "code",
   "execution_count": null,
   "metadata": {},
   "outputs": [],
   "source": []
  },
  {
   "cell_type": "code",
   "execution_count": null,
   "metadata": {},
   "outputs": [],
   "source": []
  },
  {
   "cell_type": "code",
   "execution_count": null,
   "metadata": {},
   "outputs": [],
   "source": []
  },
  {
   "cell_type": "code",
   "execution_count": null,
   "metadata": {},
   "outputs": [],
   "source": []
  }
 ],
 "metadata": {
  "kernelspec": {
   "display_name": "Python 3",
   "language": "python",
   "name": "python3"
  },
  "language_info": {
   "codemirror_mode": {
    "name": "ipython",
    "version": 3
   },
   "file_extension": ".py",
   "mimetype": "text/x-python",
   "name": "python",
   "nbconvert_exporter": "python",
   "pygments_lexer": "ipython3",
   "version": "3.6.4"
  }
 },
 "nbformat": 4,
 "nbformat_minor": 2
}
