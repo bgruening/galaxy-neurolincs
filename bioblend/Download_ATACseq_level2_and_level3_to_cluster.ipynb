{
 "cells": [
  {
   "cell_type": "markdown",
   "metadata": {},
   "source": [
    "# Download ATACseq Level2 (bam) & Level3 (peaks) data from a Galaxy history"
   ]
  },
  {
   "cell_type": "code",
   "execution_count": 1,
   "metadata": {},
   "outputs": [],
   "source": [
    "import sys\n",
    "import os\n",
    "from glob import glob as GlobToFilePaths\n",
    "from bioblend.galaxy import GalaxyInstance\n",
    "from bioblend.galaxy.histories import HistoryClient\n",
    "from bioblend.galaxy.tools import ToolClient\n",
    "from bioblend.galaxy.workflows import WorkflowClient\n",
    "from bioblend.galaxy.datasets import DatasetClient\n",
    "from bioblend.galaxy.libraries import LibraryClient"
   ]
  },
  {
   "cell_type": "markdown",
   "metadata": {},
   "source": [
    "## I. Connect to Galaxy Instance\n",
    "\n",
    "#### You will need a `.env` file with your API_KEY"
   ]
  },
  {
   "cell_type": "code",
   "execution_count": 2,
   "metadata": {},
   "outputs": [
    {
     "name": "stdout",
     "output_type": "stream",
     "text": [
      "Loading : /Users/alex/Documents/galaxy-neurolincs/bioblend/.env\n",
      "The .env file has been loaded.\n"
     ]
    }
   ],
   "source": [
    "import environ\n",
    "\n",
    "ROOT_DIR = environ.Path('.')\n",
    "\n",
    "# Load operating system environment variables and then prepare to use them\n",
    "env = environ.Env()\n",
    "\n",
    "# Operating System Environment variables have precedence over variables defined in the .env file,\n",
    "# that is to say variables from the .env files will only be used if not defined\n",
    "# as environment variables.\n",
    "env_file = str(ROOT_DIR.path('.env'))\n",
    "print('Loading : {}'.format(env_file))\n",
    "env.read_env(env_file)\n",
    "print('The .env file has been loaded.')"
   ]
  },
  {
   "cell_type": "code",
   "execution_count": 3,
   "metadata": {},
   "outputs": [
    {
     "data": {
      "text/plain": [
       "False"
      ]
     },
     "execution_count": 3,
     "metadata": {},
     "output_type": "execute_result"
    }
   ],
   "source": [
    "GALAXY_URL = \"https://answer.csbi.mit.edu\"\n",
    "API_KEY = env(\"API_KEY\")\n",
    "API_KEY == None"
   ]
  },
  {
   "cell_type": "code",
   "execution_count": 4,
   "metadata": {},
   "outputs": [],
   "source": [
    "galaxyInstance = GalaxyInstance(url=GALAXY_URL, key=API_KEY)"
   ]
  },
  {
   "cell_type": "markdown",
   "metadata": {},
   "source": [
    "## II. Get All ATACseq Histories"
   ]
  },
  {
   "cell_type": "code",
   "execution_count": 5,
   "metadata": {},
   "outputs": [
    {
     "data": {
      "text/plain": [
       "[{'annotation': None,\n",
       "  'deleted': False,\n",
       "  'id': '0b900c60f93c0654',\n",
       "  'model_class': 'History',\n",
       "  'name': 'NeuroLINCS iMNs: (level1 > level3) RNAseq pipeline history',\n",
       "  'published': True,\n",
       "  'purged': False,\n",
       "  'tags': [],\n",
       "  'url': '/api/histories/0b900c60f93c0654'},\n",
       " {'annotation': None,\n",
       "  'deleted': False,\n",
       "  'id': '6b7e1d14aa0742ec',\n",
       "  'model_class': 'History',\n",
       "  'name': 'NeuroLINCS iPSC: (level1 > level3) RNAseq pipeline history',\n",
       "  'published': True,\n",
       "  'purged': False,\n",
       "  'tags': [],\n",
       "  'url': '/api/histories/6b7e1d14aa0742ec'},\n",
       " {'annotation': None,\n",
       "  'deleted': False,\n",
       "  'id': '1e3a7ada6d556982',\n",
       "  'model_class': 'History',\n",
       "  'name': 'Peak_Calling_Test_iMNs',\n",
       "  'published': True,\n",
       "  'purged': False,\n",
       "  'tags': [],\n",
       "  'url': '/api/histories/1e3a7ada6d556982'},\n",
       " {'annotation': None,\n",
       "  'deleted': False,\n",
       "  'id': 'd0bfe935d0f5258d',\n",
       "  'model_class': 'History',\n",
       "  'name': 'NeuroLINCS Exp 2: iMNs - ATAC pipeline',\n",
       "  'published': True,\n",
       "  'purged': False,\n",
       "  'tags': [],\n",
       "  'url': '/api/histories/d0bfe935d0f5258d'},\n",
       " {'annotation': None,\n",
       "  'deleted': False,\n",
       "  'id': '36ddb788a0f14eb3',\n",
       "  'model_class': 'History',\n",
       "  'name': 'NeuroLINCS Exp 3: d18 diMNs - ATAC pipeline',\n",
       "  'published': True,\n",
       "  'purged': False,\n",
       "  'tags': [],\n",
       "  'url': '/api/histories/36ddb788a0f14eb3'},\n",
       " {'annotation': None,\n",
       "  'deleted': False,\n",
       "  'id': 'f0f309c56aff0025',\n",
       "  'model_class': 'History',\n",
       "  'name': 'NeuroLINCS iMNs Johns Hopkins - ATAC pipeline',\n",
       "  'published': True,\n",
       "  'purged': False,\n",
       "  'tags': [],\n",
       "  'url': '/api/histories/f0f309c56aff0025'},\n",
       " {'annotation': None,\n",
       "  'deleted': False,\n",
       "  'id': '52e496b945151ee8',\n",
       "  'model_class': 'History',\n",
       "  'name': 'd32 diMNs Johns Hopkins - ATAC pipeline',\n",
       "  'published': True,\n",
       "  'purged': False,\n",
       "  'tags': [],\n",
       "  'url': '/api/histories/52e496b945151ee8'},\n",
       " {'annotation': None,\n",
       "  'deleted': False,\n",
       "  'id': 'f7bb1edd6b95db62',\n",
       "  'model_class': 'History',\n",
       "  'name': 'NeuroLINCS Exp 4: d32 diMNs - ATAC pipeline',\n",
       "  'published': True,\n",
       "  'purged': False,\n",
       "  'tags': [],\n",
       "  'url': '/api/histories/f7bb1edd6b95db62'}]"
      ]
     },
     "execution_count": 5,
     "metadata": {},
     "output_type": "execute_result"
    }
   ],
   "source": [
    "published_histories = [history for history in galaxyInstance.histories.get_histories() if history['published']]\n",
    "published_histories"
   ]
  },
  {
   "cell_type": "code",
   "execution_count": 6,
   "metadata": {},
   "outputs": [],
   "source": [
    "ATACseq_history_IDs = ['d0bfe935d0f5258d', '36ddb788a0f14eb3', 'f0f309c56aff0025', '52e496b945151ee8', 'f7bb1edd6b95db62']"
   ]
  },
  {
   "cell_type": "code",
   "execution_count": 8,
   "metadata": {},
   "outputs": [
    {
     "data": {
      "text/plain": [
       "['NeuroLINCS Exp 2: iMNs - ATAC pipeline',\n",
       " 'NeuroLINCS Exp 3: d18 diMNs - ATAC pipeline',\n",
       " 'NeuroLINCS iMNs Johns Hopkins - ATAC pipeline',\n",
       " 'd32 diMNs Johns Hopkins - ATAC pipeline',\n",
       " 'NeuroLINCS Exp 4: d32 diMNs - ATAC pipeline']"
      ]
     },
     "execution_count": 8,
     "metadata": {},
     "output_type": "execute_result"
    }
   ],
   "source": [
    "published_ATACseq_histories = [h['name'] for h in published_histories if h['id'] in ATACseq_history_IDs]\n",
    "published_ATACseq_histories"
   ]
  },
  {
   "cell_type": "markdown",
   "metadata": {},
   "source": [
    "## III. Choose ATAC history, find relevant dataset IDs"
   ]
  },
  {
   "cell_type": "code",
   "execution_count": 13,
   "metadata": {
    "scrolled": false
   },
   "outputs": [
    {
     "data": {
      "text/plain": [
       "[('4f7cc1bb8a9d4ca5', 'A-042-00iCTR-iMNs_merged.fastq'),\n",
       " ('facef090b66760d3', 'A-042-25iCTR-iMNs_merged.fastq'),\n",
       " ('caf2f9e90e891d99', 'A-042-28iALS-iMNs_merged.fastq'),\n",
       " ('d3aa84ec8de72a88', 'A-042-29iALS-iMNs_merged.fastq'),\n",
       " ('753ad6be8086242f', 'A-042-30iALS-iMNs_merged.fastq'),\n",
       " ('29abca4d77da1498', 'A-042-32iSMA-iMNs_merged.fastq'),\n",
       " ('1cfde0ac77382e47', 'A-042-52iALS-iMNs_merged.fastq'),\n",
       " ('346a1b5d64cf73f2', 'A-042-77iSMA-iMNs_merged.fastq'),\n",
       " ('852e556f71dcab41', 'A-042-83iCTR-iMNs_merged.fastq'),\n",
       " ('c8c1111eb1801d20', 'A-042-83iSMA-iMNs_merged.fastq'),\n",
       " ('47ccc7c6a9e6bfad', 'A-042-00iCTR-iMNs_merged.fastq'),\n",
       " ('9c2f6b6c1e8ba742', 'A-042-25iCTR-iMNs_merged.fastq'),\n",
       " ('15d4615b874e6e06', 'A-042-28iALS-iMNs_merged.fastq'),\n",
       " ('c2be911056a03e76', 'A-042-29iALS-iMNs_merged.fastq'),\n",
       " ('59452c8c6453038f', 'A-042-30iALS-iMNs_merged.fastq'),\n",
       " ('6c5ceca5232566bb', 'A-042-32iSMA-iMNs_merged.fastq'),\n",
       " ('e0a91154092cc382', 'A-042-52iALS-iMNs_merged.fastq'),\n",
       " ('32be888db814288a', 'A-042-77iSMA-iMNs_merged.fastq'),\n",
       " ('4a0da63e6f618962', 'A-042-83iCTR-iMNs_merged.fastq'),\n",
       " ('9f1ffc2bb0c94ed5', 'A-042-83iSMA-iMNs_merged.fastq'),\n",
       " ('f03f15add6bd78bf', 'A-060-14iCTR-004.fastq'),\n",
       " (None, 'iMNs_Collection'),\n",
       " (None, 'iMNs_dataset'),\n",
       " ('05f39d2a289deb5a', '11_noMT_sorted.bam'),\n",
       " ('e4e30f94f99d7b71', 'ucsc_hg19_kgXref.txt'),\n",
       " ('57c61e66a8a42935', 'ucsc_hg19_knownGenes.txt'),\n",
       " ('62b3494f391f08a2', 'Trimmomatic on A-060-14iCTR-004.fastq'),\n",
       " ('4cca9cb963f7f039', 'Trimmomatic on A-042-83iSMA-iMNs_merged.fastq'),\n",
       " ('71a7631501863b61', 'Trimmomatic on A-042-83iCTR-iMNs_merged.fastq'),\n",
       " ('cafc3a672728da1f', 'Trimmomatic on A-042-77iSMA-iMNs_merged.fastq'),\n",
       " ('a1cb944b2378eefd', 'Trimmomatic on A-042-52iALS-iMNs_merged.fastq'),\n",
       " ('6ed3d0a2c22004e6', 'Trimmomatic on A-042-32iSMA-iMNs_merged.fastq'),\n",
       " ('57137b44cfc7e835', 'Trimmomatic on A-042-30iALS-iMNs_merged.fastq'),\n",
       " ('e99a28b8f2e6430c', 'Trimmomatic on A-042-29iALS-iMNs_merged.fastq'),\n",
       " ('ab3b43254ba919c1', 'Trimmomatic on A-042-28iALS-iMNs_merged.fastq'),\n",
       " ('a5df6f8020f7ca4c', 'Trimmomatic on A-042-25iCTR-iMNs_merged.fastq'),\n",
       " ('bd99901c9be2cb3d', 'Trimmomatic on A-042-00iCTR-iMNs_merged.fastq'),\n",
       " (None, 'Trimmomatic on A-060-14iCTR-004.fastq'),\n",
       " ('d9ca7cb5f1a55774', 'Bowtie2 on data 27: aligned reads (sorted BAM)'),\n",
       " ('b7ae2a0930ccfd77', 'Bowtie2 on data 27: mapping stats'),\n",
       " ('9fe5358916d9cc23', 'Bowtie2 on data 28: aligned reads (sorted BAM)'),\n",
       " ('d4fb623a197c2e87', 'Bowtie2 on data 28: mapping stats'),\n",
       " ('4c5378770431db36', 'Bowtie2 on data 29: aligned reads (sorted BAM)'),\n",
       " ('02608de0200a9d1a', 'Bowtie2 on data 29: mapping stats'),\n",
       " ('6d90c7094b3cfdf0', 'Bowtie2 on data 30: aligned reads (sorted BAM)'),\n",
       " ('c0b0a93765217e1d', 'Bowtie2 on data 30: mapping stats'),\n",
       " ('e9f4fd2380fa6e27', 'Bowtie2 on data 31: aligned reads (sorted BAM)'),\n",
       " ('b097b2a7e6686279', 'Bowtie2 on data 31: mapping stats'),\n",
       " ('f23a3f0cb635b89f', 'Bowtie2 on data 32: aligned reads (sorted BAM)'),\n",
       " ('0de821e5c76808ba', 'Bowtie2 on data 32: mapping stats'),\n",
       " ('515e3969ace216be', 'Bowtie2 on data 33: aligned reads (sorted BAM)'),\n",
       " ('c0c88e9786d4afbd', 'Bowtie2 on data 33: mapping stats'),\n",
       " ('96c4856d0d3c1b31', 'Bowtie2 on data 34: aligned reads (sorted BAM)'),\n",
       " ('47369fb4e979b0a7', 'Bowtie2 on data 34: mapping stats'),\n",
       " ('99320f257c6080c8', 'Bowtie2 on data 35: aligned reads (sorted BAM)'),\n",
       " ('ee945198a921cef4', 'Bowtie2 on data 35: mapping stats'),\n",
       " ('091182e2cb8458b6', 'Bowtie2 on data 36: aligned reads (sorted BAM)'),\n",
       " ('f41421503941b891', 'Bowtie2 on data 36: mapping stats'),\n",
       " ('70890edb2d11d0d7', 'Bowtie2 on data 37: aligned reads (sorted BAM)'),\n",
       " ('28553c6f6a0b5146', 'Bowtie2 on data 37: mapping stats'),\n",
       " (None, 'Bowtie2 on collection 38: aligned reads (sorted BAM)'),\n",
       " (None, 'Bowtie2 on collection 38: mapping stats'),\n",
       " ('40586736359375af', 'BAM filter on data 39'),\n",
       " ('2bc2c4c1e07a31ce', 'BAM filter on data 41'),\n",
       " ('b68a6e40c46613cc', 'BAM filter on data 43'),\n",
       " ('397d9389cbb7ab27', 'BAM filter on data 45'),\n",
       " ('93f3b282827132db', 'BAM filter on data 47'),\n",
       " ('3f75e514ae5293c3', 'BAM filter on data 49'),\n",
       " ('0ffda7fc1ba85a3b', 'BAM filter on data 51'),\n",
       " ('3fb3a70fa650bf0e', 'BAM filter on data 53'),\n",
       " ('7144fb054208e1e8', 'BAM filter on data 55'),\n",
       " ('571c60463579aebd', 'BAM filter on data 57'),\n",
       " ('bf6eb88fc5442e9b', 'BAM filter on data 59'),\n",
       " (None, 'BAM filter on collection 61'),\n",
       " ('a9fd212685f6022b', 'Sort on data 63'),\n",
       " ('055c74093e851952', 'Sort on data 64'),\n",
       " ('209778aefcd144c0', 'Sort on data 65'),\n",
       " ('9d9ddb54d4721c8c', 'Sort on data 66'),\n",
       " ('d14ebfc5853c403d', 'Sort on data 67'),\n",
       " ('c71394df20d61ef7', 'Sort on data 68'),\n",
       " ('5e83903d11b4dc3e', 'Sort on data 69'),\n",
       " ('a334f9576e3b2235', 'Sort on data 70'),\n",
       " ('3c1244bd0e96458d', 'Sort on data 71'),\n",
       " ('bfcec2067b3505d8', 'Sort on data 72'),\n",
       " ('ea3adf04ae4fa3cd', 'Sort on data 73'),\n",
       " (None, 'Sort on collection 74'),\n",
       " ('ad388d53fd458ffd',\n",
       "  'MACS2 callpeak on data 24 and data 75 (Peaks in tabular format)'),\n",
       " ('6621d3c323040a23', 'MACS2 callpeak on data 24 and data 75 (narrow Peaks)'),\n",
       " ('e974e3e887057b46',\n",
       "  'MACS2 callpeak on data 24 and data 75 (summits in BED)'),\n",
       " ('ecafa4aa2468d9c5', 'MACS2 callpeak on data 24 and data 75 (plot)'),\n",
       " ('660122f30af7ced0',\n",
       "  'MACS2 callpeak on data 24 and data 75 (Bedgraph Treatment)'),\n",
       " ('2a00b1593a6515e0',\n",
       "  'MACS2 callpeak on data 24 and data 75 (Bedgraph Control)'),\n",
       " ('1425a1ec0a3aadf5', 'MACS2 callpeak on data 24 and data 75 (html report)'),\n",
       " ('e5ad40d1ab01e4a6',\n",
       "  'MACS2 callpeak on data 24 and data 76 (Peaks in tabular format)'),\n",
       " ('fc39724f289d6f0e', 'MACS2 callpeak on data 24 and data 76 (narrow Peaks)'),\n",
       " ('0d80fa23b4f58426',\n",
       "  'MACS2 callpeak on data 24 and data 76 (summits in BED)'),\n",
       " ('7dbb3e646df391c8', 'MACS2 callpeak on data 24 and data 76 (plot)'),\n",
       " ('319bd7bc79d1ea5d',\n",
       "  'MACS2 callpeak on data 24 and data 76 (Bedgraph Treatment)'),\n",
       " ('1c2b48d7388b22d8',\n",
       "  'MACS2 callpeak on data 24 and data 76 (Bedgraph Control)'),\n",
       " ('44e811b06ffc2bce', 'MACS2 callpeak on data 24 and data 76 (html report)'),\n",
       " ('95c924f3983d18b4',\n",
       "  'MACS2 callpeak on data 24 and data 77 (Peaks in tabular format)'),\n",
       " ('c5c14ec17f785f9e', 'MACS2 callpeak on data 24 and data 77 (narrow Peaks)'),\n",
       " ('e210bfcc8982a9be',\n",
       "  'MACS2 callpeak on data 24 and data 77 (summits in BED)'),\n",
       " ('f679b2a743b88ac3', 'MACS2 callpeak on data 24 and data 77 (plot)'),\n",
       " ('b898c5657df88d1d',\n",
       "  'MACS2 callpeak on data 24 and data 77 (Bedgraph Treatment)'),\n",
       " ('6f5fa51d5e238e63',\n",
       "  'MACS2 callpeak on data 24 and data 77 (Bedgraph Control)'),\n",
       " ('b5fbece7efe3a7e3', 'MACS2 callpeak on data 24 and data 77 (html report)'),\n",
       " ('eed2e3470e06adfc',\n",
       "  'MACS2 callpeak on data 24 and data 78 (Peaks in tabular format)'),\n",
       " ('00921075858e2c4f', 'MACS2 callpeak on data 24 and data 78 (narrow Peaks)'),\n",
       " ('31f7b6f65ced2be8',\n",
       "  'MACS2 callpeak on data 24 and data 78 (summits in BED)'),\n",
       " ('8a102ff7df095ce9', 'MACS2 callpeak on data 24 and data 78 (plot)'),\n",
       " ('e8704d6618e43131',\n",
       "  'MACS2 callpeak on data 24 and data 78 (Bedgraph Treatment)'),\n",
       " ('d107ec74fe912280',\n",
       "  'MACS2 callpeak on data 24 and data 78 (Bedgraph Control)'),\n",
       " ('c8329f42e6eaaa7c', 'MACS2 callpeak on data 24 and data 78 (html report)'),\n",
       " ('28856d34135fe347',\n",
       "  'MACS2 callpeak on data 24 and data 79 (Peaks in tabular format)'),\n",
       " ('2e751b854e2da6ae', 'MACS2 callpeak on data 24 and data 79 (narrow Peaks)'),\n",
       " ('01e0ca77f9ce00c8',\n",
       "  'MACS2 callpeak on data 24 and data 79 (summits in BED)'),\n",
       " ('701358356dda3adb', 'MACS2 callpeak on data 24 and data 79 (plot)'),\n",
       " ('253ddaa68f416d94',\n",
       "  'MACS2 callpeak on data 24 and data 79 (Bedgraph Treatment)'),\n",
       " ('9a1052c443a0ff25',\n",
       "  'MACS2 callpeak on data 24 and data 79 (Bedgraph Control)'),\n",
       " ('6a98a10309f0d845', 'MACS2 callpeak on data 24 and data 79 (html report)'),\n",
       " ('692f6ffa096cb2e6',\n",
       "  'MACS2 callpeak on data 24 and data 80 (Peaks in tabular format)'),\n",
       " ('ec1c8a683f62fd23', 'MACS2 callpeak on data 24 and data 80 (narrow Peaks)'),\n",
       " ('a3721b0b1b35fa3b',\n",
       "  'MACS2 callpeak on data 24 and data 80 (summits in BED)'),\n",
       " ('9902773ac46e786b', 'MACS2 callpeak on data 24 and data 80 (plot)'),\n",
       " ('6bf649c3eadb95b2',\n",
       "  'MACS2 callpeak on data 24 and data 80 (Bedgraph Treatment)'),\n",
       " ('1c00902655f62981',\n",
       "  'MACS2 callpeak on data 24 and data 80 (Bedgraph Control)'),\n",
       " ('7b30a0a7ad5a6469', 'MACS2 callpeak on data 24 and data 80 (html report)'),\n",
       " ('de92543226523e1c',\n",
       "  'MACS2 callpeak on data 24 and data 81 (Peaks in tabular format)'),\n",
       " ('aac596740088c04a', 'MACS2 callpeak on data 24 and data 81 (narrow Peaks)'),\n",
       " ('2da67b0b75ad481a',\n",
       "  'MACS2 callpeak on data 24 and data 81 (summits in BED)'),\n",
       " ('94e28dd93017be74', 'MACS2 callpeak on data 24 and data 81 (plot)'),\n",
       " ('fcc0b75d364dfe30',\n",
       "  'MACS2 callpeak on data 24 and data 81 (Bedgraph Treatment)'),\n",
       " ('d64a99707e7611ce',\n",
       "  'MACS2 callpeak on data 24 and data 81 (Bedgraph Control)'),\n",
       " ('0cfc5ea9e3e89aeb', 'MACS2 callpeak on data 24 and data 81 (html report)'),\n",
       " ('dc3c39e2edd6b82b',\n",
       "  'MACS2 callpeak on data 24 and data 82 (Peaks in tabular format)'),\n",
       " ('3aa641fb99a63738', 'MACS2 callpeak on data 24 and data 82 (narrow Peaks)'),\n",
       " ('1902b99b49166d3f',\n",
       "  'MACS2 callpeak on data 24 and data 82 (summits in BED)'),\n",
       " ('ee9cb3f3e6e9825c', 'MACS2 callpeak on data 24 and data 82 (plot)'),\n",
       " ('43c997f24c2471c8',\n",
       "  'MACS2 callpeak on data 24 and data 82 (Bedgraph Treatment)'),\n",
       " ('ecfc424eb5f8d6d9',\n",
       "  'MACS2 callpeak on data 24 and data 82 (Bedgraph Control)'),\n",
       " ('3cf1adb48a984935', 'MACS2 callpeak on data 24 and data 82 (html report)'),\n",
       " ('5266065463c499d3',\n",
       "  'MACS2 callpeak on data 24 and data 83 (Peaks in tabular format)'),\n",
       " ('e51fa8146f761500', 'MACS2 callpeak on data 24 and data 83 (narrow Peaks)'),\n",
       " ('dab2f0b8eae32234',\n",
       "  'MACS2 callpeak on data 24 and data 83 (summits in BED)'),\n",
       " ('f71ca05699f10beb', 'MACS2 callpeak on data 24 and data 83 (plot)'),\n",
       " ('b65f0a03991ffcc5',\n",
       "  'MACS2 callpeak on data 24 and data 83 (Bedgraph Treatment)'),\n",
       " ('ce9172e0d9d29e1a',\n",
       "  'MACS2 callpeak on data 24 and data 83 (Bedgraph Control)'),\n",
       " ('b9f5dc6de3063f73', 'MACS2 callpeak on data 24 and data 83 (html report)'),\n",
       " ('f784d5c8ff6e6b2a',\n",
       "  'MACS2 callpeak on data 24 and data 84 (Peaks in tabular format)'),\n",
       " ('a12e3604a0cff898', 'MACS2 callpeak on data 24 and data 84 (narrow Peaks)'),\n",
       " ('209655633979af95',\n",
       "  'MACS2 callpeak on data 24 and data 84 (summits in BED)'),\n",
       " ('2ab969696b841372', 'MACS2 callpeak on data 24 and data 84 (plot)'),\n",
       " ('a5e1cc94bddc4d66',\n",
       "  'MACS2 callpeak on data 24 and data 84 (Bedgraph Treatment)'),\n",
       " ('f454c4295ae3bf59',\n",
       "  'MACS2 callpeak on data 24 and data 84 (Bedgraph Control)'),\n",
       " ('c5c8160a3637be7d', 'MACS2 callpeak on data 24 and data 84 (html report)'),\n",
       " ('647661e8c8fe655e',\n",
       "  'MACS2 callpeak on data 24 and data 85 (Peaks in tabular format)'),\n",
       " ('c0ca489264da3d96', 'MACS2 callpeak on data 24 and data 85 (narrow Peaks)'),\n",
       " ('316edb1e455a4eca',\n",
       "  'MACS2 callpeak on data 24 and data 85 (summits in BED)'),\n",
       " ('2eb60975b597e4df', 'MACS2 callpeak on data 24 and data 85 (plot)'),\n",
       " ('7f8cdd1776e0f7fd',\n",
       "  'MACS2 callpeak on data 24 and data 85 (Bedgraph Treatment)'),\n",
       " ('8f9b2a29fe838546',\n",
       "  'MACS2 callpeak on data 24 and data 85 (Bedgraph Control)'),\n",
       " ('311a65d413e591c3', 'MACS2 callpeak on data 24 and data 85 (html report)'),\n",
       " (None, 'MACS2 callpeak on collection 86 (Bedgraph Control)'),\n",
       " (None, 'MACS2 callpeak on collection 86 (Bedgraph Treatment)'),\n",
       " (None, 'MACS2 callpeak on collection 86 (html report)'),\n",
       " (None, 'MACS2 callpeak on collection 86 (plot)'),\n",
       " (None, 'MACS2 callpeak on collection 86 (Peaks in tabular format)'),\n",
       " (None, 'MACS2 callpeak on collection 86 (narrow Peaks)'),\n",
       " (None, 'MACS2 callpeak on collection 86 (summits in BED)'),\n",
       " ('adf3e4f6ba41322d', 'bamCoverage on data 75'),\n",
       " ('0c65dfdaf436431e', 'bamCoverage on data 76'),\n",
       " ('1a41f6b02edae426', 'bamCoverage on data 77'),\n",
       " ('2617f1cb7e3d0ee3', 'bamCoverage on data 78'),\n",
       " ('25a7e3023805f143', 'bamCoverage on data 79'),\n",
       " ('34e182d97bff30a4', 'bamCoverage on data 80'),\n",
       " ('ec83fdbca67150f5', 'bamCoverage on data 81'),\n",
       " ('61156b96724abe17', 'bamCoverage on data 82'),\n",
       " ('94e55a6f9fc86342', 'bamCoverage on data 83'),\n",
       " ('ba9e2a5da8bf0dd8', 'bamCoverage on data 84'),\n",
       " ('5b58044598c878f5', 'bamCoverage on data 85'),\n",
       " (None, 'bamCoverage on collection 86')]"
      ]
     },
     "execution_count": 13,
     "metadata": {},
     "output_type": "execute_result"
    }
   ],
   "source": [
    "history_id = ATACseq_history_IDs[0]\n",
    "history_contents = galaxyInstance.histories.show_history(history_id, contents=True)\n",
    "history_contents = [(history_item.get('dataset_id'), history_item.get('name')) for history_item in history_contents]\n",
    "history_contents"
   ]
  },
  {
   "cell_type": "code",
   "execution_count": 27,
   "metadata": {},
   "outputs": [
    {
     "data": {
      "text/plain": [
       "[('a9fd212685f6022b', 'Sort on data 63'),\n",
       " ('055c74093e851952', 'Sort on data 64'),\n",
       " ('209778aefcd144c0', 'Sort on data 65'),\n",
       " ('9d9ddb54d4721c8c', 'Sort on data 66'),\n",
       " ('d14ebfc5853c403d', 'Sort on data 67'),\n",
       " ('c71394df20d61ef7', 'Sort on data 68'),\n",
       " ('5e83903d11b4dc3e', 'Sort on data 69'),\n",
       " ('a334f9576e3b2235', 'Sort on data 70'),\n",
       " ('3c1244bd0e96458d', 'Sort on data 71'),\n",
       " ('bfcec2067b3505d8', 'Sort on data 72'),\n",
       " ('ea3adf04ae4fa3cd', 'Sort on data 73'),\n",
       " ('6621d3c323040a23', 'MACS2 callpeak on data 24 and data 75 (narrow Peaks)'),\n",
       " ('fc39724f289d6f0e', 'MACS2 callpeak on data 24 and data 76 (narrow Peaks)'),\n",
       " ('c5c14ec17f785f9e', 'MACS2 callpeak on data 24 and data 77 (narrow Peaks)'),\n",
       " ('00921075858e2c4f', 'MACS2 callpeak on data 24 and data 78 (narrow Peaks)'),\n",
       " ('2e751b854e2da6ae', 'MACS2 callpeak on data 24 and data 79 (narrow Peaks)'),\n",
       " ('ec1c8a683f62fd23', 'MACS2 callpeak on data 24 and data 80 (narrow Peaks)'),\n",
       " ('aac596740088c04a', 'MACS2 callpeak on data 24 and data 81 (narrow Peaks)'),\n",
       " ('3aa641fb99a63738', 'MACS2 callpeak on data 24 and data 82 (narrow Peaks)'),\n",
       " ('e51fa8146f761500', 'MACS2 callpeak on data 24 and data 83 (narrow Peaks)'),\n",
       " ('a12e3604a0cff898', 'MACS2 callpeak on data 24 and data 84 (narrow Peaks)'),\n",
       " ('c0ca489264da3d96', 'MACS2 callpeak on data 24 and data 85 (narrow Peaks)'),\n",
       " (None, 'MACS2 callpeak on collection 86 (narrow Peaks)')]"
      ]
     },
     "execution_count": 27,
     "metadata": {},
     "output_type": "execute_result"
    }
   ],
   "source": [
    "desired_dataset_ids = [history_item for history_item in history_contents if history_item[1][:12] == 'Sort on data' or history_item[1][-14:] == '(narrow Peaks)']\n",
    "desired_dataset_ids"
   ]
  },
  {
   "cell_type": "markdown",
   "metadata": {},
   "source": [
    "## IV. Download"
   ]
  },
  {
   "cell_type": "code",
   "execution_count": null,
   "metadata": {},
   "outputs": [],
   "source": [
    "[galaxyInstance.datasets.download_dataset(dataset_id[0]) for dataset_id in desired_dataset_ids[:-1]]"
   ]
  }
 ],
 "metadata": {
  "kernelspec": {
   "display_name": "Python 3",
   "language": "python",
   "name": "python3"
  },
  "language_info": {
   "codemirror_mode": {
    "name": "ipython",
    "version": 3
   },
   "file_extension": ".py",
   "mimetype": "text/x-python",
   "name": "python",
   "nbconvert_exporter": "python",
   "pygments_lexer": "ipython3",
   "version": "3.6.4"
  }
 },
 "nbformat": 4,
 "nbformat_minor": 2
}
