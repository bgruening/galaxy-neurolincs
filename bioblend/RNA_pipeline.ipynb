{
 "cells": [
  {
   "cell_type": "markdown",
   "metadata": {},
   "source": [
    "# Run RNAseq (Level1 > Level3) workflow on all AnswerALS data"
   ]
  },
  {
   "cell_type": "code",
   "execution_count": 1,
   "metadata": {},
   "outputs": [],
   "source": [
    "import sys\n",
    "import os\n",
    "from glob import glob as GlobToFilePaths\n",
    "from bioblend.galaxy import GalaxyInstance\n",
    "from bioblend.galaxy.histories import HistoryClient\n",
    "from bioblend.galaxy.tools import ToolClient\n",
    "from bioblend.galaxy.workflows import WorkflowClient\n",
    "from bioblend.galaxy.datasets import DatasetClient\n",
    "from bioblend.galaxy.libraries import LibraryClient"
   ]
  },
  {
   "cell_type": "markdown",
   "metadata": {},
   "source": [
    "## I. Connect to Galaxy Instance\n",
    "\n",
    "#### You will need a `.env` file with your API_KEY"
   ]
  },
  {
   "cell_type": "code",
   "execution_count": 2,
   "metadata": {},
   "outputs": [
    {
     "name": "stdout",
     "output_type": "stream",
     "text": [
      "Loading : /Users/alex/Documents/galaxy-neurolincs/bioblend/.env\n",
      "The .env file has been loaded.\n"
     ]
    }
   ],
   "source": [
    "# pip install django-environ\n",
    "import environ\n",
    "\n",
    "ROOT_DIR = environ.Path('.')\n",
    "\n",
    "# Load operating system environment variables and then prepare to use them\n",
    "env = environ.Env()\n",
    "\n",
    "# Operating System Environment variables have precedence over variables defined in the .env file,\n",
    "# that is to say variables from the .env files will only be used if not defined\n",
    "# as environment variables.\n",
    "env_file = str(ROOT_DIR.path('.env'))\n",
    "print('Loading : {}'.format(env_file))\n",
    "env.read_env(env_file)\n",
    "print('The .env file has been loaded.')"
   ]
  },
  {
   "cell_type": "code",
   "execution_count": 3,
   "metadata": {},
   "outputs": [],
   "source": [
    "GALAXY_URL = \"https://answer.csbi.mit.edu\"\n",
    "API_KEY = env(\"API_KEY\")\n",
    "# API_KEY == None"
   ]
  },
  {
   "cell_type": "code",
   "execution_count": 4,
   "metadata": {},
   "outputs": [],
   "source": [
    "galaxyInstance = GalaxyInstance(url=GALAXY_URL, key=API_KEY)"
   ]
  },
  {
   "cell_type": "markdown",
   "metadata": {},
   "source": [
    "## II. Collect RNAseq Data"
   ]
  },
  {
   "cell_type": "code",
   "execution_count": null,
   "metadata": {},
   "outputs": [],
   "source": []
  },
  {
   "cell_type": "code",
   "execution_count": null,
   "metadata": {},
   "outputs": [],
   "source": []
  },
  {
   "cell_type": "code",
   "execution_count": null,
   "metadata": {},
   "outputs": [],
   "source": []
  },
  {
   "cell_type": "code",
   "execution_count": null,
   "metadata": {},
   "outputs": [],
   "source": []
  },
  {
   "cell_type": "code",
   "execution_count": null,
   "metadata": {},
   "outputs": [],
   "source": []
  }
 ],
 "metadata": {
  "kernelspec": {
   "display_name": "Python 3",
   "language": "python",
   "name": "python3"
  },
  "language_info": {
   "codemirror_mode": {
    "name": "ipython",
    "version": 3
   },
   "file_extension": ".py",
   "mimetype": "text/x-python",
   "name": "python",
   "nbconvert_exporter": "python",
   "pygments_lexer": "ipython3",
   "version": "3.7.2"
  }
 },
 "nbformat": 4,
 "nbformat_minor": 2
}
